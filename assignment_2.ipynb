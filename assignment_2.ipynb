{
  "cells": [
    {
      "cell_type": "markdown",
      "metadata": {
        "id": "79uHrqAZQBgL"
      },
      "source": [
        "# **Second Project - ML**\n",
        "\n",
        "*Shir Sharoni, Itamar Avieli, Omer Abraham, Mor Baruch*"
      ]
    },
    {
      "cell_type": "code",
      "execution_count": null,
      "metadata": {
        "id": "Jdnb1dp1DKhA"
      },
      "outputs": [],
      "source": [
        "from zipfile import ZipFile\n",
        "import numpy as np\n",
        "import matplotlib.pyplot as plt \n",
        "from sklearn.model_selection import train_test_split\n",
        "from keras.models import Sequential\n",
        "from keras.layers import Dense, Flatten, Input, Conv2D, MaxPooling2D, Dropout, BatchNormalization, Activation , PReLU\n",
        "from sklearn.metrics import accuracy_score\n"
      ]
    },
    {
      "cell_type": "code",
      "execution_count": null,
      "metadata": {
        "colab": {
          "base_uri": "https://localhost:8080/",
          "height": 53
        },
        "id": "Ad1aH4xwNfUE",
        "outputId": "aa4edbc4-0e12-4b1a-b3f5-49efbc4a8708"
      },
      "outputs": [
        {
          "output_type": "execute_result",
          "data": {
            "text/plain": [
              "\"os.environ['PYTHONHASHSEED'] = '0'\\nos.environ['CUDA_VISIBLE_DEVICES'] = ''\\nnp.random.seed(37)\\nrn.seed(1254)\\ntf.random.set_seed(89)\""
            ],
            "application/vnd.google.colaboratory.intrinsic+json": {
              "type": "string"
            }
          },
          "metadata": {},
          "execution_count": 3
        }
      ],
      "source": [
        "from numpy.random.mtrand import seed\n",
        "import tensorflow as tf\n",
        "import random as rn\n",
        "import os\n",
        "tf.keras.utils.set_random_seed(1)"
      ]
    },
    {
      "cell_type": "code",
      "execution_count": null,
      "metadata": {
        "id": "htqfM9GXDRBf"
      },
      "outputs": [],
      "source": [
        "with ZipFile('cats_and_dogs_data.zip', 'r') as zipObj:\n",
        "   # Extract all the contents of zip file in current directory\n",
        "   zipObj.extractall()"
      ]
    },
    {
      "cell_type": "code",
      "execution_count": null,
      "metadata": {
        "id": "f94fbfUUDxv8"
      },
      "outputs": [],
      "source": [
        "x_train = np.load(\"content/data/X_train.npy\")  \n",
        "x_test = np.load(\"content/data/X_test.npy\") \n",
        "y_train = np.load(\"content/data/Y_train.npy\") \n",
        "y_test = np.load(\"content/data/Y_test.npy\") "
      ]
    },
    {
      "cell_type": "markdown",
      "metadata": {
        "id": "f2Ua_CtZQba3"
      },
      "source": [
        "# **Exploring the Data**"
      ]
    },
    {
      "cell_type": "markdown",
      "metadata": {
        "id": "fAaq64DrQhot"
      },
      "source": [
        "At first we will see how our samples are built. <br>\n",
        "We will see what are the size of the photos, and in what dimension are they."
      ]
    },
    {
      "cell_type": "code",
      "execution_count": null,
      "metadata": {
        "id": "cv8l5jdmHOpE",
        "colab": {
          "base_uri": "https://localhost:8080/"
        },
        "outputId": "3e795e15-a3c8-4194-a9d2-c6726f54894a"
      },
      "outputs": [
        {
          "output_type": "stream",
          "name": "stdout",
          "text": [
            "Shape of x_train is: (3200, 180, 180, 3)\n",
            "Shape of y_train is: (3200,)\n",
            "Shape of x_test is: (800, 180, 180, 3)\n",
            "Shape of y_test is: (800,)\n"
          ]
        }
      ],
      "source": [
        "print('Shape of x_train is:', x_train.shape)\n",
        "print('Shape of y_train is:', y_train.shape)\n",
        "print('Shape of x_test is:', x_test.shape)\n",
        "print('Shape of y_test is:', y_test.shape)\n",
        "     "
      ]
    },
    {
      "cell_type": "code",
      "execution_count": null,
      "metadata": {
        "id": "HOVXhsrCJz9M",
        "colab": {
          "base_uri": "https://localhost:8080/"
        },
        "outputId": "9fddd165-80e4-4de7-a1ec-fee8d0d755ea"
      },
      "outputs": [
        {
          "output_type": "execute_result",
          "data": {
            "text/plain": [
              "(0.0, 255.0, dtype('float64'))"
            ]
          },
          "metadata": {},
          "execution_count": 8
        }
      ],
      "source": [
        "np.min(x_train), np.max(x_train), x_train.dtype"
      ]
    },
    {
      "cell_type": "markdown",
      "metadata": {
        "id": "Fose0h7NQ7LJ"
      },
      "source": [
        "As we can see above are data is 180*180 pixels, when each pixel presented by RGB means 3-d.\n",
        "We will normalize the values by split each of the RGB diemensions by 3. "
      ]
    },
    {
      "cell_type": "code",
      "execution_count": null,
      "metadata": {
        "id": "nYPdZ_EmHnyL"
      },
      "outputs": [],
      "source": [
        "x_train = x_train / 255.0\n",
        "x_test = x_test / 255.0"
      ]
    },
    {
      "cell_type": "code",
      "execution_count": null,
      "metadata": {
        "id": "c9IuiG1_Jkr6",
        "colab": {
          "base_uri": "https://localhost:8080/"
        },
        "outputId": "8b607ed3-a852-410c-bfc1-a9f7b9f96f14"
      },
      "outputs": [
        {
          "output_type": "execute_result",
          "data": {
            "text/plain": [
              "(0.0, 1.0, dtype('float64'))"
            ]
          },
          "metadata": {},
          "execution_count": 10
        }
      ],
      "source": [
        "np.min(x_train), np.max(x_train), x_train.dtype\n",
        "     "
      ]
    },
    {
      "cell_type": "markdown",
      "metadata": {
        "id": "cHoLcn5tRddn"
      },
      "source": [
        "Let's see what our labels represent: ( we checked both in the train & test data)"
      ]
    },
    {
      "cell_type": "code",
      "execution_count": null,
      "metadata": {
        "id": "-0ta8nbEHvYX",
        "colab": {
          "base_uri": "https://localhost:8080/",
          "height": 299
        },
        "outputId": "76001e67-eb06-4b77-c175-81d39c3bbdf2"
      },
      "outputs": [
        {
          "output_type": "display_data",
          "data": {
            "text/plain": [
              "<Figure size 432x288 with 0 Axes>"
            ]
          },
          "metadata": {}
        },
        {
          "output_type": "display_data",
          "data": {
            "text/plain": [
              "<Figure size 432x288 with 4 Axes>"
            ],
            "image/png": "[encoded data removed]"
          },
          "metadata": {
            "needs_background": "light"
          }
        }
      ],
      "source": [
        "def plot_random_samples(x, y):\n",
        "  plt.figure()\n",
        "\n",
        "  f, axarr = plt.subplots(2, 2, gridspec_kw={'hspace':0.4}) \n",
        "  rands = np.random.randint(x.shape[0], size=4)\n",
        "  axarr[0, 0].imshow(x[rands[0], :, :])\n",
        "  axarr[0, 0].set_title('Label: ' + str(y[rands[0]]), fontweight='bold')\n",
        "\n",
        "  axarr[1, 0].imshow(x[rands[1], :, :])\n",
        "  axarr[1, 0].set_title('Label: ' + str(y[rands[1]]), fontweight='bold')\n",
        "\n",
        "  axarr[0, 1].imshow(x[rands[2], :, :])\n",
        "  axarr[0, 1].set_title('Label: ' + str(y[rands[2]]), fontweight='bold')\n",
        "\n",
        "  axarr[1, 1].imshow(x[rands[3], :, :])\n",
        "  axarr[1, 1].set_title('Label: ' + str(y[rands[3]]), fontweight='bold')\n",
        "\n",
        "  plt.show()\n",
        "\n",
        "plot_random_samples(x_train, y_train)"
      ]
    },
    {
      "cell_type": "code",
      "execution_count": null,
      "metadata": {
        "id": "HCVbGrKGYaV-",
        "colab": {
          "base_uri": "https://localhost:8080/",
          "height": 299
        },
        "outputId": "88e0df7f-bd00-48a2-a9e6-0d893d35715a"
      },
      "outputs": [
        {
          "output_type": "display_data",
          "data": {
            "text/plain": [
              "<Figure size 432x288 with 0 Axes>"
            ]
          },
          "metadata": {}
        },
        {
          "output_type": "display_data",
          "data": {
            "text/plain": [
              "<Figure size 432x288 with 4 Axes>"
            ],
            "image/png": "[encoded data removed]"
          },
          "metadata": {
            "needs_background": "light"
          }
        }
      ],
      "source": [
        "plot_random_samples(x_test, y_test)"
      ]
    },
    {
      "cell_type": "markdown",
      "metadata": {
        "id": "O8rJlDnRR9Dn"
      },
      "source": [
        "### Split to train & validation sets:"
      ]
    },
    {
      "cell_type": "code",
      "execution_count": null,
      "metadata": {
        "id": "d4IOUEk0J1-q"
      },
      "outputs": [],
      "source": [
        "x_train, x_val, y_train, y_val = train_test_split(x_train, y_train,test_size=1/4)"
      ]
    },
    {
      "cell_type": "code",
      "execution_count": null,
      "metadata": {
        "id": "d7sOSnY0J_Er",
        "colab": {
          "base_uri": "https://localhost:8080/"
        },
        "outputId": "590444f3-a893-4814-de61-73a59b81d8a3"
      },
      "outputs": [
        {
          "output_type": "stream",
          "name": "stdout",
          "text": [
            "Shape of x_train is: (2400, 180, 180, 3)\n",
            "Shape of y_train is: (2400,)\n",
            "Shape of x_test is: (800, 180, 180, 3)\n",
            "Shape of y_test is: (800,)\n",
            "Shape of x_val is: (800, 180, 180, 3)\n",
            "Shape of y_val is: (800,)\n"
          ]
        }
      ],
      "source": [
        "print('Shape of x_train is:', x_train.shape)\n",
        "print('Shape of y_train is:', y_train.shape)\n",
        "print('Shape of x_test is:', x_test.shape)\n",
        "print('Shape of y_test is:', y_test.shape)\n",
        "print('Shape of x_val is:', x_val.shape)\n",
        "print('Shape of y_val is:', y_val.shape)"
      ]
    },
    {
      "cell_type": "markdown",
      "metadata": {
        "id": "NDAseMcFSOql"
      },
      "source": [
        "# 1st Experiment - Simple model\n",
        "### Stracture -\n",
        "- Four 2d convolutional layers, were between each convolutional layer we added MaxPolling.\n",
        "- Flatten() - before the fully connected layers.\n",
        "- Followed by two fully connected layer (one hidden layer and one output layer)\n",
        "- We added dropout before the first hidden layer.\n",
        "\n",
        "### Training -\n",
        "- After a few tries we have decided to use batch_size=32, epochs= 20.\n"
      ]
    },
    {
      "cell_type": "code",
      "execution_count": null,
      "metadata": {
        "id": "FQQzCiZiLELc"
      },
      "outputs": [],
      "source": [
        "conv_model = Sequential()\n",
        "\n",
        "conv_model.add(Input(shape=(180, 180, 3)))\n",
        "conv_model.add(Conv2D(16, kernel_size=(3, 3), activation=\"relu\"))\n",
        "\n",
        "conv_model.add(MaxPooling2D(pool_size=(2, 2)))\n",
        "conv_model.add(Conv2D(32, kernel_size=(3, 3), activation=\"relu\"))\n",
        "\n",
        "conv_model.add(MaxPooling2D(pool_size=(2, 2)))\n",
        "conv_model.add(Dropout(0.5))\n",
        "\n",
        "conv_model.add(Conv2D(64, kernel_size=(3, 3), activation=\"relu\"))\n",
        "conv_model.add(MaxPooling2D(pool_size=(2, 2)))\n",
        "\n",
        "conv_model.add(Conv2D(128, kernel_size=(3, 3), activation=\"relu\"))\n",
        "conv_model.add(MaxPooling2D(pool_size=(2, 2)))\n",
        "\n",
        "conv_model.add(Flatten())\n",
        "conv_model.add(Dropout(0.5))\n",
        "conv_model.add(Dense(64, activation=\"sigmoid\"))\n",
        "conv_model.add(Dense(1, activation=\"sigmoid\"))"
      ]
    },
    {
      "cell_type": "code",
      "execution_count": null,
      "metadata": {
        "id": "Z8Fmq49WMSyO",
        "colab": {
          "base_uri": "https://localhost:8080/"
        },
        "outputId": "89a77e8c-4914-43d5-c3dc-9dcc4957c50c"
      },
      "outputs": [
        {
          "output_type": "stream",
          "name": "stdout",
          "text": [
            "Model: \"sequential\"\n",
            "_________________________________________________________________\n",
            " Layer (type)                Output Shape              Param #   \n",
            "=================================================================\n",
            " conv2d (Conv2D)             (None, 178, 178, 16)      448       \n",
            "                                                                 \n",
            " max_pooling2d (MaxPooling2D  (None, 89, 89, 16)       0         \n",
            " )                                                               \n",
            "                                                                 \n",
            " conv2d_1 (Conv2D)           (None, 87, 87, 32)        4640      \n",
            "                                                                 \n",
            " max_pooling2d_1 (MaxPooling  (None, 43, 43, 32)       0         \n",
            " 2D)                                                             \n",
            "                                                                 \n",
            " dropout (Dropout)           (None, 43, 43, 32)        0         \n",
            "                                                                 \n",
            " conv2d_2 (Conv2D)           (None, 41, 41, 64)        18496     \n",
            "                                                                 \n",
            " max_pooling2d_2 (MaxPooling  (None, 20, 20, 64)       0         \n",
            " 2D)                                                             \n",
            "                                                                 \n",
            " conv2d_3 (Conv2D)           (None, 18, 18, 128)       73856     \n",
            "                                                                 \n",
            " max_pooling2d_3 (MaxPooling  (None, 9, 9, 128)        0         \n",
            " 2D)                                                             \n",
            "                                                                 \n",
            " flatten (Flatten)           (None, 10368)             0         \n",
            "                                                                 \n",
            " dropout_1 (Dropout)         (None, 10368)             0         \n",
            "                                                                 \n",
            " dense (Dense)               (None, 64)                663616    \n",
            "                                                                 \n",
            " dense_1 (Dense)             (None, 1)                 65        \n",
            "                                                                 \n",
            "=================================================================\n",
            "Total params: 761,121\n",
            "Trainable params: 761,121\n",
            "Non-trainable params: 0\n",
            "_________________________________________________________________\n"
          ]
        }
      ],
      "source": [
        "conv_model.summary()"
      ]
    },
    {
      "cell_type": "code",
      "execution_count": null,
      "metadata": {
        "colab": {
          "base_uri": "https://localhost:8080/"
        },
        "id": "kb_p0NpwOE8u",
        "outputId": "ba76e45c-2c33-4988-8180-13091f6b5e29"
      },
      "outputs": [
        {
          "output_type": "stream",
          "name": "stdout",
          "text": [
            "Epoch 1/20\n",
            "75/75 [==============================] - 12s 34ms/step - loss: 0.7031 - accuracy: 0.5071 - val_loss: 0.6925 - val_accuracy: 0.5063\n",
            "Epoch 2/20\n",
            "75/75 [==============================] - 2s 26ms/step - loss: 0.6892 - accuracy: 0.5425 - val_loss: 0.6849 - val_accuracy: 0.5975\n",
            "Epoch 3/20\n",
            "75/75 [==============================] - 2s 26ms/step - loss: 0.6675 - accuracy: 0.5863 - val_loss: 0.6766 - val_accuracy: 0.5362\n",
            "Epoch 4/20\n",
            "75/75 [==============================] - 2s 26ms/step - loss: 0.6469 - accuracy: 0.6017 - val_loss: 0.6319 - val_accuracy: 0.6162\n",
            "Epoch 5/20\n",
            "75/75 [==============================] - 2s 26ms/step - loss: 0.6339 - accuracy: 0.6254 - val_loss: 0.6214 - val_accuracy: 0.6237\n",
            "Epoch 6/20\n",
            "75/75 [==============================] - 2s 26ms/step - loss: 0.6191 - accuracy: 0.6396 - val_loss: 0.6155 - val_accuracy: 0.6137\n",
            "Epoch 7/20\n",
            "75/75 [==============================] - 2s 26ms/step - loss: 0.6018 - accuracy: 0.6667 - val_loss: 0.6174 - val_accuracy: 0.6112\n",
            "Epoch 8/20\n",
            "75/75 [==============================] - 2s 26ms/step - loss: 0.5815 - accuracy: 0.6812 - val_loss: 0.5962 - val_accuracy: 0.6525\n",
            "Epoch 9/20\n",
            "75/75 [==============================] - 2s 25ms/step - loss: 0.5591 - accuracy: 0.7096 - val_loss: 0.5677 - val_accuracy: 0.6975\n",
            "Epoch 10/20\n",
            "75/75 [==============================] - 2s 25ms/step - loss: 0.5325 - accuracy: 0.7179 - val_loss: 0.5895 - val_accuracy: 0.6637\n",
            "Epoch 11/20\n",
            "75/75 [==============================] - 2s 25ms/step - loss: 0.5183 - accuracy: 0.7437 - val_loss: 0.5568 - val_accuracy: 0.7075\n",
            "Epoch 12/20\n",
            "75/75 [==============================] - 2s 25ms/step - loss: 0.5121 - accuracy: 0.7396 - val_loss: 0.5867 - val_accuracy: 0.6938\n",
            "Epoch 13/20\n",
            "75/75 [==============================] - 2s 26ms/step - loss: 0.4807 - accuracy: 0.7725 - val_loss: 0.5523 - val_accuracy: 0.6988\n",
            "Epoch 14/20\n",
            "75/75 [==============================] - 2s 26ms/step - loss: 0.4655 - accuracy: 0.7825 - val_loss: 0.5428 - val_accuracy: 0.7000\n",
            "Epoch 15/20\n",
            "75/75 [==============================] - 3s 36ms/step - loss: 0.4610 - accuracy: 0.7746 - val_loss: 0.5747 - val_accuracy: 0.6938\n",
            "Epoch 16/20\n",
            "75/75 [==============================] - 3s 39ms/step - loss: 0.4488 - accuracy: 0.7900 - val_loss: 0.5336 - val_accuracy: 0.7150\n",
            "Epoch 17/20\n",
            "75/75 [==============================] - 2s 29ms/step - loss: 0.4366 - accuracy: 0.7942 - val_loss: 0.5914 - val_accuracy: 0.6938\n",
            "Epoch 18/20\n",
            "75/75 [==============================] - 2s 26ms/step - loss: 0.4193 - accuracy: 0.8062 - val_loss: 0.5661 - val_accuracy: 0.7075\n",
            "Epoch 19/20\n",
            "75/75 [==============================] - 2s 26ms/step - loss: 0.4004 - accuracy: 0.8133 - val_loss: 0.5575 - val_accuracy: 0.7262\n",
            "Epoch 20/20\n",
            "75/75 [==============================] - 2s 25ms/step - loss: 0.3982 - accuracy: 0.8100 - val_loss: 0.5571 - val_accuracy: 0.7212\n"
          ]
        }
      ],
      "source": [
        "tf.random.set_seed(42)\n",
        "conv_model.compile(loss='binary_crossentropy', optimizer='adam', metrics=['accuracy'])\n",
        "history = conv_model.fit(x_train, y_train, validation_data=(x_val, y_val), batch_size=32, epochs= 20)"
      ]
    },
    {
      "cell_type": "code",
      "execution_count": null,
      "metadata": {
        "colab": {
          "base_uri": "https://localhost:8080/",
          "height": 301
        },
        "id": "E-Eclosz2h4n",
        "outputId": "8102a8f0-b6c2-4c20-8dbf-ee17262bdc38"
      },
      "outputs": [
        {
          "output_type": "execute_result",
          "data": {
            "text/plain": [
              "<matplotlib.legend.Legend at 0x7f40e00d9b50>"
            ]
          },
          "metadata": {},
          "execution_count": 18
        },
        {
          "output_type": "display_data",
          "data": {
            "text/plain": [
              "<Figure size 432x288 with 1 Axes>"
            ],
            "image/png": "[encoded data removed]"
          },
          "metadata": {
            "needs_background": "light"
          }
        }
      ],
      "source": [
        "plt.plot(history.history['accuracy'], label='accuracy')\n",
        "plt.plot(history.history['val_accuracy'], label = 'val_accuracy')\n",
        "plt.xlabel('Epoch')\n",
        "plt.ylabel('Accuracy')\n",
        "plt.ylim([0.5, 1])\n",
        "plt.legend(loc='lower right')"
      ]
    },
    {
      "cell_type": "markdown",
      "metadata": {
        "id": "uLbUOgVwUYAI"
      },
      "source": [
        "### **Results** \n",
        "As you can see below we recieve on the test 79% Acc."
      ]
    },
    {
      "cell_type": "code",
      "execution_count": null,
      "metadata": {
        "colab": {
          "base_uri": "https://localhost:8080/"
        },
        "id": "gI5pKHQ8SOEX",
        "outputId": "2286294e-89ad-46e8-8976-9675615d69f5"
      },
      "outputs": [
        {
          "output_type": "stream",
          "name": "stdout",
          "text": [
            "25/25 [==============================] - 0s 11ms/step\n",
            "Accuracy:  0.79625\n"
          ]
        }
      ],
      "source": [
        "y_pred = conv_model.predict(x_test)\n",
        "y_pred_labels = np.round(y_pred)\n",
        "print('Accuracy: ', accuracy_score(y_test, y_pred_labels))"
      ]
    },
    {
      "cell_type": "code",
      "source": [
        "train_pred = conv_model.predict(x_train)\n",
        "train_pred_labels = np.round(train_pred)\n",
        "print('Accuracy: ', accuracy_score(y_train, train_pred_labels))"
      ],
      "metadata": {
        "colab": {
          "base_uri": "https://localhost:8080/"
        },
        "id": "ksqodasd0w_g",
        "outputId": "a2b5b864-4e29-4f7d-bbe6-634e678080d7"
      },
      "execution_count": null,
      "outputs": [
        {
          "output_type": "stream",
          "name": "stdout",
          "text": [
            "75/75 [==============================] - 1s 12ms/step\n",
            "Accuracy:  0.8670833333333333\n"
          ]
        }
      ]
    },
    {
      "cell_type": "markdown",
      "metadata": {
        "id": "0getIFE3XJKe"
      },
      "source": [
        "# 2nd Experiment - Bulid your own CNN\n",
        "### Stracture -\n",
        "- Five 2d convolutional layers, were between each convolutional layer we added MaxPolling & dropout of 50%.\n",
        "- Flatten() - before the fully connected layers.\n",
        "- Followed by two fully connected layer (one hidden layer and one output layer)\n",
        "- We added dropout before the first hidden layer.\n",
        "\n",
        "### Training -\n",
        "- After a few tries we have decided to use batch_size=32, epochs= 23."
      ]
    },
    {
      "cell_type": "code",
      "source": [
        "model = Sequential()\n",
        "\n",
        "model.add(Input(shape=(180, 180, 3)))\n",
        "model.add(Conv2D(16, kernel_size=(3, 3), activation=\"relu\"))\n",
        "\n",
        "model.add(MaxPooling2D(pool_size=(2, 2)))\n",
        "model.add(Conv2D(32, kernel_size=(3, 3), activation=\"relu\"))\n",
        "\n",
        "model.add(MaxPooling2D(pool_size=(2, 2)))\n",
        "model.add(Dropout(0.5))\n",
        "\n",
        "model.add(Conv2D(64, kernel_size=(3, 3), activation=\"relu\"))\n",
        "model.add(MaxPooling2D(pool_size=(2, 2)))\n",
        "\n",
        "model.add(Conv2D(128, kernel_size=(3, 3), activation=\"relu\"))\n",
        "model.add(MaxPooling2D(pool_size=(2, 2)))\n",
        "\n",
        "model.add(Conv2D(256, kernel_size=(3, 3), activation=\"relu\"))\n",
        "model.add(MaxPooling2D(pool_size=(2, 2)))\n",
        "\n",
        "model.add(Flatten())\n",
        "model.add(Dropout(0.5))\n",
        "model.add(Dense(64, activation=\"sigmoid\"))\n",
        "model.add(Dense(32, activation=\"sigmoid\"))\n",
        "model.add(Dense(1, activation=\"sigmoid\"))"
      ],
      "metadata": {
        "id": "R820FiU5sDmI"
      },
      "execution_count": null,
      "outputs": []
    },
    {
      "cell_type": "code",
      "source": [
        "model.summary()"
      ],
      "metadata": {
        "colab": {
          "base_uri": "https://localhost:8080/"
        },
        "id": "aUd6F0kTsw9Q",
        "outputId": "e33a4553-9c31-446e-a6fb-9914acb1663b"
      },
      "execution_count": null,
      "outputs": [
        {
          "output_type": "stream",
          "name": "stdout",
          "text": [
            "Model: \"sequential_4\"\n",
            "_________________________________________________________________\n",
            " Layer (type)                Output Shape              Param #   \n",
            "=================================================================\n",
            " conv2d_19 (Conv2D)          (None, 178, 178, 16)      448       \n",
            "                                                                 \n",
            " max_pooling2d_19 (MaxPoolin  (None, 89, 89, 16)       0         \n",
            " g2D)                                                            \n",
            "                                                                 \n",
            " conv2d_20 (Conv2D)          (None, 87, 87, 32)        4640      \n",
            "                                                                 \n",
            " max_pooling2d_20 (MaxPoolin  (None, 43, 43, 32)       0         \n",
            " g2D)                                                            \n",
            "                                                                 \n",
            " dropout_8 (Dropout)         (None, 43, 43, 32)        0         \n",
            "                                                                 \n",
            " conv2d_21 (Conv2D)          (None, 41, 41, 64)        18496     \n",
            "                                                                 \n",
            " max_pooling2d_21 (MaxPoolin  (None, 20, 20, 64)       0         \n",
            " g2D)                                                            \n",
            "                                                                 \n",
            " conv2d_22 (Conv2D)          (None, 18, 18, 128)       73856     \n",
            "                                                                 \n",
            " max_pooling2d_22 (MaxPoolin  (None, 9, 9, 128)        0         \n",
            " g2D)                                                            \n",
            "                                                                 \n",
            " conv2d_23 (Conv2D)          (None, 7, 7, 256)         295168    \n",
            "                                                                 \n",
            " max_pooling2d_23 (MaxPoolin  (None, 3, 3, 256)        0         \n",
            " g2D)                                                            \n",
            "                                                                 \n",
            " flatten_4 (Flatten)         (None, 2304)              0         \n",
            "                                                                 \n",
            " dropout_9 (Dropout)         (None, 2304)              0         \n",
            "                                                                 \n",
            " dense_12 (Dense)            (None, 64)                147520    \n",
            "                                                                 \n",
            " dense_13 (Dense)            (None, 32)                2080      \n",
            "                                                                 \n",
            " dense_14 (Dense)            (None, 1)                 33        \n",
            "                                                                 \n",
            "=================================================================\n",
            "Total params: 542,241\n",
            "Trainable params: 542,241\n",
            "Non-trainable params: 0\n",
            "_________________________________________________________________\n"
          ]
        }
      ]
    },
    {
      "cell_type": "code",
      "execution_count": null,
      "metadata": {
        "colab": {
          "base_uri": "https://localhost:8080/"
        },
        "id": "Sl-lY5I-YtqX",
        "outputId": "547fd88c-f45a-4930-c023-e8676bc29426"
      },
      "outputs": [
        {
          "output_type": "stream",
          "name": "stdout",
          "text": [
            "Epoch 1/23\n",
            "75/75 [==============================] - 3s 35ms/step - loss: 0.6961 - accuracy: 0.4879 - val_loss: 0.6922 - val_accuracy: 0.5063\n",
            "Epoch 2/23\n",
            "75/75 [==============================] - 2s 26ms/step - loss: 0.6935 - accuracy: 0.5125 - val_loss: 0.6923 - val_accuracy: 0.5063\n",
            "Epoch 3/23\n",
            "75/75 [==============================] - 2s 26ms/step - loss: 0.6827 - accuracy: 0.5467 - val_loss: 0.6742 - val_accuracy: 0.5575\n",
            "Epoch 4/23\n",
            "75/75 [==============================] - 2s 26ms/step - loss: 0.6594 - accuracy: 0.5958 - val_loss: 0.6530 - val_accuracy: 0.5900\n",
            "Epoch 5/23\n",
            "75/75 [==============================] - 2s 26ms/step - loss: 0.6373 - accuracy: 0.6187 - val_loss: 0.6351 - val_accuracy: 0.6400\n",
            "Epoch 6/23\n",
            "75/75 [==============================] - 2s 26ms/step - loss: 0.6078 - accuracy: 0.6637 - val_loss: 0.5925 - val_accuracy: 0.6825\n",
            "Epoch 7/23\n",
            "75/75 [==============================] - 2s 27ms/step - loss: 0.5894 - accuracy: 0.6792 - val_loss: 0.5941 - val_accuracy: 0.6787\n",
            "Epoch 8/23\n",
            "75/75 [==============================] - 2s 26ms/step - loss: 0.5845 - accuracy: 0.6767 - val_loss: 0.5967 - val_accuracy: 0.6800\n",
            "Epoch 9/23\n",
            "75/75 [==============================] - 2s 26ms/step - loss: 0.5519 - accuracy: 0.7163 - val_loss: 0.5614 - val_accuracy: 0.7163\n",
            "Epoch 10/23\n",
            "75/75 [==============================] - 2s 26ms/step - loss: 0.5193 - accuracy: 0.7508 - val_loss: 0.5668 - val_accuracy: 0.7063\n",
            "Epoch 11/23\n",
            "75/75 [==============================] - 2s 26ms/step - loss: 0.5111 - accuracy: 0.7437 - val_loss: 0.5464 - val_accuracy: 0.7188\n",
            "Epoch 12/23\n",
            "75/75 [==============================] - 2s 26ms/step - loss: 0.4832 - accuracy: 0.7654 - val_loss: 0.6599 - val_accuracy: 0.6900\n",
            "Epoch 13/23\n",
            "75/75 [==============================] - 2s 25ms/step - loss: 0.4672 - accuracy: 0.7825 - val_loss: 0.5069 - val_accuracy: 0.7362\n",
            "Epoch 14/23\n",
            "75/75 [==============================] - 2s 27ms/step - loss: 0.4363 - accuracy: 0.8087 - val_loss: 0.5374 - val_accuracy: 0.7150\n",
            "Epoch 15/23\n",
            "75/75 [==============================] - 2s 26ms/step - loss: 0.4329 - accuracy: 0.7979 - val_loss: 0.5675 - val_accuracy: 0.7350\n",
            "Epoch 16/23\n",
            "75/75 [==============================] - 2s 26ms/step - loss: 0.4031 - accuracy: 0.8267 - val_loss: 0.5073 - val_accuracy: 0.7525\n",
            "Epoch 17/23\n",
            "75/75 [==============================] - 2s 26ms/step - loss: 0.4150 - accuracy: 0.8117 - val_loss: 0.4901 - val_accuracy: 0.7613\n",
            "Epoch 18/23\n",
            "75/75 [==============================] - 2s 27ms/step - loss: 0.3647 - accuracy: 0.8458 - val_loss: 0.5106 - val_accuracy: 0.7613\n",
            "Epoch 19/23\n",
            "75/75 [==============================] - 2s 26ms/step - loss: 0.3481 - accuracy: 0.8475 - val_loss: 0.4983 - val_accuracy: 0.7538\n",
            "Epoch 20/23\n",
            "75/75 [==============================] - 2s 26ms/step - loss: 0.3097 - accuracy: 0.8721 - val_loss: 0.5545 - val_accuracy: 0.7437\n",
            "Epoch 21/23\n",
            "75/75 [==============================] - 2s 27ms/step - loss: 0.3124 - accuracy: 0.8725 - val_loss: 0.5633 - val_accuracy: 0.7475\n",
            "Epoch 22/23\n",
            "75/75 [==============================] - 2s 27ms/step - loss: 0.2824 - accuracy: 0.8867 - val_loss: 0.4994 - val_accuracy: 0.7663\n",
            "Epoch 23/23\n",
            "75/75 [==============================] - 2s 25ms/step - loss: 0.2788 - accuracy: 0.8950 - val_loss: 0.5183 - val_accuracy: 0.7700\n"
          ]
        }
      ],
      "source": [
        "tf.random.set_seed(42)\n",
        "model.compile(loss='binary_crossentropy', optimizer='adam', metrics=['accuracy'])\n",
        "history = model.fit(x_train, y_train, validation_data=(x_val, y_val), batch_size=32, epochs= 23)"
      ]
    },
    {
      "cell_type": "code",
      "execution_count": null,
      "metadata": {
        "colab": {
          "base_uri": "https://localhost:8080/",
          "height": 301
        },
        "id": "X5DZc8dSb4Mx",
        "outputId": "690076ec-d35d-46ff-cee5-7d927950d73d"
      },
      "outputs": [
        {
          "output_type": "execute_result",
          "data": {
            "text/plain": [
              "<matplotlib.legend.Legend at 0x7f402aec2370>"
            ]
          },
          "metadata": {},
          "execution_count": 43
        },
        {
          "output_type": "display_data",
          "data": {
            "text/plain": [
              "<Figure size 432x288 with 1 Axes>"
            ],
            "image/png": "[encoded data removed]"
          },
          "metadata": {
            "needs_background": "light"
          }
        }
      ],
      "source": [
        "plt.plot(history.history['accuracy'], label='accuracy')\n",
        "plt.plot(history.history['val_accuracy'], label = 'val_accuracy')\n",
        "plt.xlabel('Epoch')\n",
        "plt.ylabel('Accuracy')\n",
        "plt.ylim([0.5, 1])\n",
        "plt.legend(loc='lower right')"
      ]
    },
    {
      "cell_type": "markdown",
      "metadata": {
        "id": "z2K4wqOx6nMQ"
      },
      "source": [
        "### **Results** \n",
        "As you can see we achived the same result with the new model - 80% Acc."
      ]
    },
    {
      "cell_type": "code",
      "execution_count": null,
      "metadata": {
        "colab": {
          "base_uri": "https://localhost:8080/"
        },
        "id": "XEarHl4ka17_",
        "outputId": "75ab70f3-6191-4e33-d810-12b3920243df"
      },
      "outputs": [
        {
          "output_type": "stream",
          "name": "stdout",
          "text": [
            "25/25 [==============================] - 0s 11ms/step\n",
            "Accuracy:  0.8025\n"
          ]
        }
      ],
      "source": [
        "y_pred = model.predict(x_test)\n",
        "y_pred_labels = np.round(y_pred)\n",
        "print('Accuracy: ', accuracy_score(y_test, y_pred_labels))"
      ]
    },
    {
      "cell_type": "code",
      "source": [
        "train_pred = model.predict(x_train)\n",
        "train_pred_labels = np.round(train_pred)\n",
        "print('Accuracy: ', accuracy_score(y_train, train_pred_labels))"
      ],
      "metadata": {
        "colab": {
          "base_uri": "https://localhost:8080/"
        },
        "id": "fREShWbt0uUZ",
        "outputId": "0baa3a9e-494b-4709-d44d-887b93944fbf"
      },
      "execution_count": null,
      "outputs": [
        {
          "output_type": "stream",
          "name": "stdout",
          "text": [
            "75/75 [==============================] - 1s 11ms/step\n",
            "Accuracy:  0.9395833333333333\n"
          ]
        }
      ]
    },
    {
      "cell_type": "markdown",
      "metadata": {
        "id": "uDvb29-mYTq3"
      },
      "source": [
        "# 3rd Experiment - Transfer learning - load a pre-trained model\n",
        "We used base_model without training, and transfered it to our data\n"
      ]
    },
    {
      "cell_type": "code",
      "execution_count": null,
      "metadata": {
        "colab": {
          "base_uri": "https://localhost:8080/"
        },
        "id": "yYcajknQInGP",
        "outputId": "f92456fa-ab57-487f-fbf6-ba6d25667f01"
      },
      "outputs": [
        {
          "output_type": "stream",
          "name": "stdout",
          "text": [
            "Downloading data from https://storage.googleapis.com/tensorflow/keras-applications/inception_v3/inception_v3_weights_tf_dim_ordering_tf_kernels_notop.h5\n",
            "87910968/87910968 [==============================] - 3s 0us/step\n"
          ]
        }
      ],
      "source": [
        "base_model = tf.keras.applications.InceptionV3(input_shape=(180,180,3), include_top=False)"
      ]
    },
    {
      "cell_type": "code",
      "execution_count": null,
      "metadata": {
        "colab": {
          "base_uri": "https://localhost:8080/"
        },
        "id": "BZc8IyU6ItTL",
        "outputId": "32d67919-d2c2-4ee1-a4d2-741521cde53a"
      },
      "outputs": [
        {
          "output_type": "stream",
          "name": "stdout",
          "text": [
            "Model: \"inception_v3\"\n",
            "__________________________________________________________________________________________________\n",
            " Layer (type)                   Output Shape         Param #     Connected to                     \n",
            "==================================================================================================\n",
            " input_3 (InputLayer)           [(None, 180, 180, 3  0           []                               \n",
            "                                )]                                                                \n",
            "                                                                                                  \n",
            " conv2d_9 (Conv2D)              (None, 89, 89, 32)   864         ['input_3[0][0]']                \n",
            "                                                                                                  \n",
            " batch_normalization_5 (BatchNo  (None, 89, 89, 32)  96          ['conv2d_9[0][0]']               \n",
            " rmalization)                                                                                     \n",
            "                                                                                                  \n",
            " activation (Activation)        (None, 89, 89, 32)   0           ['batch_normalization_5[0][0]']  \n",
            "                                                                                                  \n",
            " conv2d_10 (Conv2D)             (None, 87, 87, 32)   9216        ['activation[0][0]']             \n",
            "                                                                                                  \n",
            " batch_normalization_6 (BatchNo  (None, 87, 87, 32)  96          ['conv2d_10[0][0]']              \n",
            " rmalization)                                                                                     \n",
            "                                                                                                  \n",
            " activation_1 (Activation)      (None, 87, 87, 32)   0           ['batch_normalization_6[0][0]']  \n",
            "                                                                                                  \n",
            " conv2d_11 (Conv2D)             (None, 87, 87, 64)   18432       ['activation_1[0][0]']           \n",
            "                                                                                                  \n",
            " batch_normalization_7 (BatchNo  (None, 87, 87, 64)  192         ['conv2d_11[0][0]']              \n",
            " rmalization)                                                                                     \n",
            "                                                                                                  \n",
            " activation_2 (Activation)      (None, 87, 87, 64)   0           ['batch_normalization_7[0][0]']  \n",
            "                                                                                                  \n",
            " max_pooling2d_8 (MaxPooling2D)  (None, 43, 43, 64)  0           ['activation_2[0][0]']           \n",
            "                                                                                                  \n",
            " conv2d_12 (Conv2D)             (None, 43, 43, 80)   5120        ['max_pooling2d_8[0][0]']        \n",
            "                                                                                                  \n",
            " batch_normalization_8 (BatchNo  (None, 43, 43, 80)  240         ['conv2d_12[0][0]']              \n",
            " rmalization)                                                                                     \n",
            "                                                                                                  \n",
            " activation_3 (Activation)      (None, 43, 43, 80)   0           ['batch_normalization_8[0][0]']  \n",
            "                                                                                                  \n",
            " conv2d_13 (Conv2D)             (None, 41, 41, 192)  138240      ['activation_3[0][0]']           \n",
            "                                                                                                  \n",
            " batch_normalization_9 (BatchNo  (None, 41, 41, 192)  576        ['conv2d_13[0][0]']              \n",
            " rmalization)                                                                                     \n",
            "                                                                                                  \n",
            " activation_4 (Activation)      (None, 41, 41, 192)  0           ['batch_normalization_9[0][0]']  \n",
            "                                                                                                  \n",
            " max_pooling2d_9 (MaxPooling2D)  (None, 20, 20, 192)  0          ['activation_4[0][0]']           \n",
            "                                                                                                  \n",
            " conv2d_17 (Conv2D)             (None, 20, 20, 64)   12288       ['max_pooling2d_9[0][0]']        \n",
            "                                                                                                  \n",
            " batch_normalization_13 (BatchN  (None, 20, 20, 64)  192         ['conv2d_17[0][0]']              \n",
            " ormalization)                                                                                    \n",
            "                                                                                                  \n",
            " activation_8 (Activation)      (None, 20, 20, 64)   0           ['batch_normalization_13[0][0]'] \n",
            "                                                                                                  \n",
            " conv2d_15 (Conv2D)             (None, 20, 20, 48)   9216        ['max_pooling2d_9[0][0]']        \n",
            "                                                                                                  \n",
            " conv2d_18 (Conv2D)             (None, 20, 20, 96)   55296       ['activation_8[0][0]']           \n",
            "                                                                                                  \n",
            " batch_normalization_11 (BatchN  (None, 20, 20, 48)  144         ['conv2d_15[0][0]']              \n",
            " ormalization)                                                                                    \n",
            "                                                                                                  \n",
            " batch_normalization_14 (BatchN  (None, 20, 20, 96)  288         ['conv2d_18[0][0]']              \n",
            " ormalization)                                                                                    \n",
            "                                                                                                  \n",
            " activation_6 (Activation)      (None, 20, 20, 48)   0           ['batch_normalization_11[0][0]'] \n",
            "                                                                                                  \n",
            " activation_9 (Activation)      (None, 20, 20, 96)   0           ['batch_normalization_14[0][0]'] \n",
            "                                                                                                  \n",
            " average_pooling2d (AveragePool  (None, 20, 20, 192)  0          ['max_pooling2d_9[0][0]']        \n",
            " ing2D)                                                                                           \n",
            "                                                                                                  \n",
            " conv2d_14 (Conv2D)             (None, 20, 20, 64)   12288       ['max_pooling2d_9[0][0]']        \n",
            "                                                                                                  \n",
            " conv2d_16 (Conv2D)             (None, 20, 20, 64)   76800       ['activation_6[0][0]']           \n",
            "                                                                                                  \n",
            " conv2d_19 (Conv2D)             (None, 20, 20, 96)   82944       ['activation_9[0][0]']           \n",
            "                                                                                                  \n",
            " conv2d_20 (Conv2D)             (None, 20, 20, 32)   6144        ['average_pooling2d[0][0]']      \n",
            "                                                                                                  \n",
            " batch_normalization_10 (BatchN  (None, 20, 20, 64)  192         ['conv2d_14[0][0]']              \n",
            " ormalization)                                                                                    \n",
            "                                                                                                  \n",
            " batch_normalization_12 (BatchN  (None, 20, 20, 64)  192         ['conv2d_16[0][0]']              \n",
            " ormalization)                                                                                    \n",
            "                                                                                                  \n",
            " batch_normalization_15 (BatchN  (None, 20, 20, 96)  288         ['conv2d_19[0][0]']              \n",
            " ormalization)                                                                                    \n",
            "                                                                                                  \n",
            " batch_normalization_16 (BatchN  (None, 20, 20, 32)  96          ['conv2d_20[0][0]']              \n",
            " ormalization)                                                                                    \n",
            "                                                                                                  \n",
            " activation_5 (Activation)      (None, 20, 20, 64)   0           ['batch_normalization_10[0][0]'] \n",
            "                                                                                                  \n",
            " activation_7 (Activation)      (None, 20, 20, 64)   0           ['batch_normalization_12[0][0]'] \n",
            "                                                                                                  \n",
            " activation_10 (Activation)     (None, 20, 20, 96)   0           ['batch_normalization_15[0][0]'] \n",
            "                                                                                                  \n",
            " activation_11 (Activation)     (None, 20, 20, 32)   0           ['batch_normalization_16[0][0]'] \n",
            "                                                                                                  \n",
            " mixed0 (Concatenate)           (None, 20, 20, 256)  0           ['activation_5[0][0]',           \n",
            "                                                                  'activation_7[0][0]',           \n",
            "                                                                  'activation_10[0][0]',          \n",
            "                                                                  'activation_11[0][0]']          \n",
            "                                                                                                  \n",
            " conv2d_24 (Conv2D)             (None, 20, 20, 64)   16384       ['mixed0[0][0]']                 \n",
            "                                                                                                  \n",
            " batch_normalization_20 (BatchN  (None, 20, 20, 64)  192         ['conv2d_24[0][0]']              \n",
            " ormalization)                                                                                    \n",
            "                                                                                                  \n",
            " activation_15 (Activation)     (None, 20, 20, 64)   0           ['batch_normalization_20[0][0]'] \n",
            "                                                                                                  \n",
            " conv2d_22 (Conv2D)             (None, 20, 20, 48)   12288       ['mixed0[0][0]']                 \n",
            "                                                                                                  \n",
            " conv2d_25 (Conv2D)             (None, 20, 20, 96)   55296       ['activation_15[0][0]']          \n",
            "                                                                                                  \n",
            " batch_normalization_18 (BatchN  (None, 20, 20, 48)  144         ['conv2d_22[0][0]']              \n",
            " ormalization)                                                                                    \n",
            "                                                                                                  \n",
            " batch_normalization_21 (BatchN  (None, 20, 20, 96)  288         ['conv2d_25[0][0]']              \n",
            " ormalization)                                                                                    \n",
            "                                                                                                  \n",
            " activation_13 (Activation)     (None, 20, 20, 48)   0           ['batch_normalization_18[0][0]'] \n",
            "                                                                                                  \n",
            " activation_16 (Activation)     (None, 20, 20, 96)   0           ['batch_normalization_21[0][0]'] \n",
            "                                                                                                  \n",
            " average_pooling2d_1 (AveragePo  (None, 20, 20, 256)  0          ['mixed0[0][0]']                 \n",
            " oling2D)                                                                                         \n",
            "                                                                                                  \n",
            " conv2d_21 (Conv2D)             (None, 20, 20, 64)   16384       ['mixed0[0][0]']                 \n",
            "                                                                                                  \n",
            " conv2d_23 (Conv2D)             (None, 20, 20, 64)   76800       ['activation_13[0][0]']          \n",
            "                                                                                                  \n",
            " conv2d_26 (Conv2D)             (None, 20, 20, 96)   82944       ['activation_16[0][0]']          \n",
            "                                                                                                  \n",
            " conv2d_27 (Conv2D)             (None, 20, 20, 64)   16384       ['average_pooling2d_1[0][0]']    \n",
            "                                                                                                  \n",
            " batch_normalization_17 (BatchN  (None, 20, 20, 64)  192         ['conv2d_21[0][0]']              \n",
            " ormalization)                                                                                    \n",
            "                                                                                                  \n",
            " batch_normalization_19 (BatchN  (None, 20, 20, 64)  192         ['conv2d_23[0][0]']              \n",
            " ormalization)                                                                                    \n",
            "                                                                                                  \n",
            " batch_normalization_22 (BatchN  (None, 20, 20, 96)  288         ['conv2d_26[0][0]']              \n",
            " ormalization)                                                                                    \n",
            "                                                                                                  \n",
            " batch_normalization_23 (BatchN  (None, 20, 20, 64)  192         ['conv2d_27[0][0]']              \n",
            " ormalization)                                                                                    \n",
            "                                                                                                  \n",
            " activation_12 (Activation)     (None, 20, 20, 64)   0           ['batch_normalization_17[0][0]'] \n",
            "                                                                                                  \n",
            " activation_14 (Activation)     (None, 20, 20, 64)   0           ['batch_normalization_19[0][0]'] \n",
            "                                                                                                  \n",
            " activation_17 (Activation)     (None, 20, 20, 96)   0           ['batch_normalization_22[0][0]'] \n",
            "                                                                                                  \n",
            " activation_18 (Activation)     (None, 20, 20, 64)   0           ['batch_normalization_23[0][0]'] \n",
            "                                                                                                  \n",
            " mixed1 (Concatenate)           (None, 20, 20, 288)  0           ['activation_12[0][0]',          \n",
            "                                                                  'activation_14[0][0]',          \n",
            "                                                                  'activation_17[0][0]',          \n",
            "                                                                  'activation_18[0][0]']          \n",
            "                                                                                                  \n",
            " conv2d_31 (Conv2D)             (None, 20, 20, 64)   18432       ['mixed1[0][0]']                 \n",
            "                                                                                                  \n",
            " batch_normalization_27 (BatchN  (None, 20, 20, 64)  192         ['conv2d_31[0][0]']              \n",
            " ormalization)                                                                                    \n",
            "                                                                                                  \n",
            " activation_22 (Activation)     (None, 20, 20, 64)   0           ['batch_normalization_27[0][0]'] \n",
            "                                                                                                  \n",
            " conv2d_29 (Conv2D)             (None, 20, 20, 48)   13824       ['mixed1[0][0]']                 \n",
            "                                                                                                  \n",
            " conv2d_32 (Conv2D)             (None, 20, 20, 96)   55296       ['activation_22[0][0]']          \n",
            "                                                                                                  \n",
            " batch_normalization_25 (BatchN  (None, 20, 20, 48)  144         ['conv2d_29[0][0]']              \n",
            " ormalization)                                                                                    \n",
            "                                                                                                  \n",
            " batch_normalization_28 (BatchN  (None, 20, 20, 96)  288         ['conv2d_32[0][0]']              \n",
            " ormalization)                                                                                    \n",
            "                                                                                                  \n",
            " activation_20 (Activation)     (None, 20, 20, 48)   0           ['batch_normalization_25[0][0]'] \n",
            "                                                                                                  \n",
            " activation_23 (Activation)     (None, 20, 20, 96)   0           ['batch_normalization_28[0][0]'] \n",
            "                                                                                                  \n",
            " average_pooling2d_2 (AveragePo  (None, 20, 20, 288)  0          ['mixed1[0][0]']                 \n",
            " oling2D)                                                                                         \n",
            "                                                                                                  \n",
            " conv2d_28 (Conv2D)             (None, 20, 20, 64)   18432       ['mixed1[0][0]']                 \n",
            "                                                                                                  \n",
            " conv2d_30 (Conv2D)             (None, 20, 20, 64)   76800       ['activation_20[0][0]']          \n",
            "                                                                                                  \n",
            " conv2d_33 (Conv2D)             (None, 20, 20, 96)   82944       ['activation_23[0][0]']          \n",
            "                                                                                                  \n",
            " conv2d_34 (Conv2D)             (None, 20, 20, 64)   18432       ['average_pooling2d_2[0][0]']    \n",
            "                                                                                                  \n",
            " batch_normalization_24 (BatchN  (None, 20, 20, 64)  192         ['conv2d_28[0][0]']              \n",
            " ormalization)                                                                                    \n",
            "                                                                                                  \n",
            " batch_normalization_26 (BatchN  (None, 20, 20, 64)  192         ['conv2d_30[0][0]']              \n",
            " ormalization)                                                                                    \n",
            "                                                                                                  \n",
            " batch_normalization_29 (BatchN  (None, 20, 20, 96)  288         ['conv2d_33[0][0]']              \n",
            " ormalization)                                                                                    \n",
            "                                                                                                  \n",
            " batch_normalization_30 (BatchN  (None, 20, 20, 64)  192         ['conv2d_34[0][0]']              \n",
            " ormalization)                                                                                    \n",
            "                                                                                                  \n",
            " activation_19 (Activation)     (None, 20, 20, 64)   0           ['batch_normalization_24[0][0]'] \n",
            "                                                                                                  \n",
            " activation_21 (Activation)     (None, 20, 20, 64)   0           ['batch_normalization_26[0][0]'] \n",
            "                                                                                                  \n",
            " activation_24 (Activation)     (None, 20, 20, 96)   0           ['batch_normalization_29[0][0]'] \n",
            "                                                                                                  \n",
            " activation_25 (Activation)     (None, 20, 20, 64)   0           ['batch_normalization_30[0][0]'] \n",
            "                                                                                                  \n",
            " mixed2 (Concatenate)           (None, 20, 20, 288)  0           ['activation_19[0][0]',          \n",
            "                                                                  'activation_21[0][0]',          \n",
            "                                                                  'activation_24[0][0]',          \n",
            "                                                                  'activation_25[0][0]']          \n",
            "                                                                                                  \n",
            " conv2d_36 (Conv2D)             (None, 20, 20, 64)   18432       ['mixed2[0][0]']                 \n",
            "                                                                                                  \n",
            " batch_normalization_32 (BatchN  (None, 20, 20, 64)  192         ['conv2d_36[0][0]']              \n",
            " ormalization)                                                                                    \n",
            "                                                                                                  \n",
            " activation_27 (Activation)     (None, 20, 20, 64)   0           ['batch_normalization_32[0][0]'] \n",
            "                                                                                                  \n",
            " conv2d_37 (Conv2D)             (None, 20, 20, 96)   55296       ['activation_27[0][0]']          \n",
            "                                                                                                  \n",
            " batch_normalization_33 (BatchN  (None, 20, 20, 96)  288         ['conv2d_37[0][0]']              \n",
            " ormalization)                                                                                    \n",
            "                                                                                                  \n",
            " activation_28 (Activation)     (None, 20, 20, 96)   0           ['batch_normalization_33[0][0]'] \n",
            "                                                                                                  \n",
            " conv2d_35 (Conv2D)             (None, 9, 9, 384)    995328      ['mixed2[0][0]']                 \n",
            "                                                                                                  \n",
            " conv2d_38 (Conv2D)             (None, 9, 9, 96)     82944       ['activation_28[0][0]']          \n",
            "                                                                                                  \n",
            " batch_normalization_31 (BatchN  (None, 9, 9, 384)   1152        ['conv2d_35[0][0]']              \n",
            " ormalization)                                                                                    \n",
            "                                                                                                  \n",
            " batch_normalization_34 (BatchN  (None, 9, 9, 96)    288         ['conv2d_38[0][0]']              \n",
            " ormalization)                                                                                    \n",
            "                                                                                                  \n",
            " activation_26 (Activation)     (None, 9, 9, 384)    0           ['batch_normalization_31[0][0]'] \n",
            "                                                                                                  \n",
            " activation_29 (Activation)     (None, 9, 9, 96)     0           ['batch_normalization_34[0][0]'] \n",
            "                                                                                                  \n",
            " max_pooling2d_10 (MaxPooling2D  (None, 9, 9, 288)   0           ['mixed2[0][0]']                 \n",
            " )                                                                                                \n",
            "                                                                                                  \n",
            " mixed3 (Concatenate)           (None, 9, 9, 768)    0           ['activation_26[0][0]',          \n",
            "                                                                  'activation_29[0][0]',          \n",
            "                                                                  'max_pooling2d_10[0][0]']       \n",
            "                                                                                                  \n",
            " conv2d_43 (Conv2D)             (None, 9, 9, 128)    98304       ['mixed3[0][0]']                 \n",
            "                                                                                                  \n",
            " batch_normalization_39 (BatchN  (None, 9, 9, 128)   384         ['conv2d_43[0][0]']              \n",
            " ormalization)                                                                                    \n",
            "                                                                                                  \n",
            " activation_34 (Activation)     (None, 9, 9, 128)    0           ['batch_normalization_39[0][0]'] \n",
            "                                                                                                  \n",
            " conv2d_44 (Conv2D)             (None, 9, 9, 128)    114688      ['activation_34[0][0]']          \n",
            "                                                                                                  \n",
            " batch_normalization_40 (BatchN  (None, 9, 9, 128)   384         ['conv2d_44[0][0]']              \n",
            " ormalization)                                                                                    \n",
            "                                                                                                  \n",
            " activation_35 (Activation)     (None, 9, 9, 128)    0           ['batch_normalization_40[0][0]'] \n",
            "                                                                                                  \n",
            " conv2d_40 (Conv2D)             (None, 9, 9, 128)    98304       ['mixed3[0][0]']                 \n",
            "                                                                                                  \n",
            " conv2d_45 (Conv2D)             (None, 9, 9, 128)    114688      ['activation_35[0][0]']          \n",
            "                                                                                                  \n",
            " batch_normalization_36 (BatchN  (None, 9, 9, 128)   384         ['conv2d_40[0][0]']              \n",
            " ormalization)                                                                                    \n",
            "                                                                                                  \n",
            " batch_normalization_41 (BatchN  (None, 9, 9, 128)   384         ['conv2d_45[0][0]']              \n",
            " ormalization)                                                                                    \n",
            "                                                                                                  \n",
            " activation_31 (Activation)     (None, 9, 9, 128)    0           ['batch_normalization_36[0][0]'] \n",
            "                                                                                                  \n",
            " activation_36 (Activation)     (None, 9, 9, 128)    0           ['batch_normalization_41[0][0]'] \n",
            "                                                                                                  \n",
            " conv2d_41 (Conv2D)             (None, 9, 9, 128)    114688      ['activation_31[0][0]']          \n",
            "                                                                                                  \n",
            " conv2d_46 (Conv2D)             (None, 9, 9, 128)    114688      ['activation_36[0][0]']          \n",
            "                                                                                                  \n",
            " batch_normalization_37 (BatchN  (None, 9, 9, 128)   384         ['conv2d_41[0][0]']              \n",
            " ormalization)                                                                                    \n",
            "                                                                                                  \n",
            " batch_normalization_42 (BatchN  (None, 9, 9, 128)   384         ['conv2d_46[0][0]']              \n",
            " ormalization)                                                                                    \n",
            "                                                                                                  \n",
            " activation_32 (Activation)     (None, 9, 9, 128)    0           ['batch_normalization_37[0][0]'] \n",
            "                                                                                                  \n",
            " activation_37 (Activation)     (None, 9, 9, 128)    0           ['batch_normalization_42[0][0]'] \n",
            "                                                                                                  \n",
            " average_pooling2d_3 (AveragePo  (None, 9, 9, 768)   0           ['mixed3[0][0]']                 \n",
            " oling2D)                                                                                         \n",
            "                                                                                                  \n",
            " conv2d_39 (Conv2D)             (None, 9, 9, 192)    147456      ['mixed3[0][0]']                 \n",
            "                                                                                                  \n",
            " conv2d_42 (Conv2D)             (None, 9, 9, 192)    172032      ['activation_32[0][0]']          \n",
            "                                                                                                  \n",
            " conv2d_47 (Conv2D)             (None, 9, 9, 192)    172032      ['activation_37[0][0]']          \n",
            "                                                                                                  \n",
            " conv2d_48 (Conv2D)             (None, 9, 9, 192)    147456      ['average_pooling2d_3[0][0]']    \n",
            "                                                                                                  \n",
            " batch_normalization_35 (BatchN  (None, 9, 9, 192)   576         ['conv2d_39[0][0]']              \n",
            " ormalization)                                                                                    \n",
            "                                                                                                  \n",
            " batch_normalization_38 (BatchN  (None, 9, 9, 192)   576         ['conv2d_42[0][0]']              \n",
            " ormalization)                                                                                    \n",
            "                                                                                                  \n",
            " batch_normalization_43 (BatchN  (None, 9, 9, 192)   576         ['conv2d_47[0][0]']              \n",
            " ormalization)                                                                                    \n",
            "                                                                                                  \n",
            " batch_normalization_44 (BatchN  (None, 9, 9, 192)   576         ['conv2d_48[0][0]']              \n",
            " ormalization)                                                                                    \n",
            "                                                                                                  \n",
            " activation_30 (Activation)     (None, 9, 9, 192)    0           ['batch_normalization_35[0][0]'] \n",
            "                                                                                                  \n",
            " activation_33 (Activation)     (None, 9, 9, 192)    0           ['batch_normalization_38[0][0]'] \n",
            "                                                                                                  \n",
            " activation_38 (Activation)     (None, 9, 9, 192)    0           ['batch_normalization_43[0][0]'] \n",
            "                                                                                                  \n",
            " activation_39 (Activation)     (None, 9, 9, 192)    0           ['batch_normalization_44[0][0]'] \n",
            "                                                                                                  \n",
            " mixed4 (Concatenate)           (None, 9, 9, 768)    0           ['activation_30[0][0]',          \n",
            "                                                                  'activation_33[0][0]',          \n",
            "                                                                  'activation_38[0][0]',          \n",
            "                                                                  'activation_39[0][0]']          \n",
            "                                                                                                  \n",
            " conv2d_53 (Conv2D)             (None, 9, 9, 160)    122880      ['mixed4[0][0]']                 \n",
            "                                                                                                  \n",
            " batch_normalization_49 (BatchN  (None, 9, 9, 160)   480         ['conv2d_53[0][0]']              \n",
            " ormalization)                                                                                    \n",
            "                                                                                                  \n",
            " activation_44 (Activation)     (None, 9, 9, 160)    0           ['batch_normalization_49[0][0]'] \n",
            "                                                                                                  \n",
            " conv2d_54 (Conv2D)             (None, 9, 9, 160)    179200      ['activation_44[0][0]']          \n",
            "                                                                                                  \n",
            " batch_normalization_50 (BatchN  (None, 9, 9, 160)   480         ['conv2d_54[0][0]']              \n",
            " ormalization)                                                                                    \n",
            "                                                                                                  \n",
            " activation_45 (Activation)     (None, 9, 9, 160)    0           ['batch_normalization_50[0][0]'] \n",
            "                                                                                                  \n",
            " conv2d_50 (Conv2D)             (None, 9, 9, 160)    122880      ['mixed4[0][0]']                 \n",
            "                                                                                                  \n",
            " conv2d_55 (Conv2D)             (None, 9, 9, 160)    179200      ['activation_45[0][0]']          \n",
            "                                                                                                  \n",
            " batch_normalization_46 (BatchN  (None, 9, 9, 160)   480         ['conv2d_50[0][0]']              \n",
            " ormalization)                                                                                    \n",
            "                                                                                                  \n",
            " batch_normalization_51 (BatchN  (None, 9, 9, 160)   480         ['conv2d_55[0][0]']              \n",
            " ormalization)                                                                                    \n",
            "                                                                                                  \n",
            " activation_41 (Activation)     (None, 9, 9, 160)    0           ['batch_normalization_46[0][0]'] \n",
            "                                                                                                  \n",
            " activation_46 (Activation)     (None, 9, 9, 160)    0           ['batch_normalization_51[0][0]'] \n",
            "                                                                                                  \n",
            " conv2d_51 (Conv2D)             (None, 9, 9, 160)    179200      ['activation_41[0][0]']          \n",
            "                                                                                                  \n",
            " conv2d_56 (Conv2D)             (None, 9, 9, 160)    179200      ['activation_46[0][0]']          \n",
            "                                                                                                  \n",
            " batch_normalization_47 (BatchN  (None, 9, 9, 160)   480         ['conv2d_51[0][0]']              \n",
            " ormalization)                                                                                    \n",
            "                                                                                                  \n",
            " batch_normalization_52 (BatchN  (None, 9, 9, 160)   480         ['conv2d_56[0][0]']              \n",
            " ormalization)                                                                                    \n",
            "                                                                                                  \n",
            " activation_42 (Activation)     (None, 9, 9, 160)    0           ['batch_normalization_47[0][0]'] \n",
            "                                                                                                  \n",
            " activation_47 (Activation)     (None, 9, 9, 160)    0           ['batch_normalization_52[0][0]'] \n",
            "                                                                                                  \n",
            " average_pooling2d_4 (AveragePo  (None, 9, 9, 768)   0           ['mixed4[0][0]']                 \n",
            " oling2D)                                                                                         \n",
            "                                                                                                  \n",
            " conv2d_49 (Conv2D)             (None, 9, 9, 192)    147456      ['mixed4[0][0]']                 \n",
            "                                                                                                  \n",
            " conv2d_52 (Conv2D)             (None, 9, 9, 192)    215040      ['activation_42[0][0]']          \n",
            "                                                                                                  \n",
            " conv2d_57 (Conv2D)             (None, 9, 9, 192)    215040      ['activation_47[0][0]']          \n",
            "                                                                                                  \n",
            " conv2d_58 (Conv2D)             (None, 9, 9, 192)    147456      ['average_pooling2d_4[0][0]']    \n",
            "                                                                                                  \n",
            " batch_normalization_45 (BatchN  (None, 9, 9, 192)   576         ['conv2d_49[0][0]']              \n",
            " ormalization)                                                                                    \n",
            "                                                                                                  \n",
            " batch_normalization_48 (BatchN  (None, 9, 9, 192)   576         ['conv2d_52[0][0]']              \n",
            " ormalization)                                                                                    \n",
            "                                                                                                  \n",
            " batch_normalization_53 (BatchN  (None, 9, 9, 192)   576         ['conv2d_57[0][0]']              \n",
            " ormalization)                                                                                    \n",
            "                                                                                                  \n",
            " batch_normalization_54 (BatchN  (None, 9, 9, 192)   576         ['conv2d_58[0][0]']              \n",
            " ormalization)                                                                                    \n",
            "                                                                                                  \n",
            " activation_40 (Activation)     (None, 9, 9, 192)    0           ['batch_normalization_45[0][0]'] \n",
            "                                                                                                  \n",
            " activation_43 (Activation)     (None, 9, 9, 192)    0           ['batch_normalization_48[0][0]'] \n",
            "                                                                                                  \n",
            " activation_48 (Activation)     (None, 9, 9, 192)    0           ['batch_normalization_53[0][0]'] \n",
            "                                                                                                  \n",
            " activation_49 (Activation)     (None, 9, 9, 192)    0           ['batch_normalization_54[0][0]'] \n",
            "                                                                                                  \n",
            " mixed5 (Concatenate)           (None, 9, 9, 768)    0           ['activation_40[0][0]',          \n",
            "                                                                  'activation_43[0][0]',          \n",
            "                                                                  'activation_48[0][0]',          \n",
            "                                                                  'activation_49[0][0]']          \n",
            "                                                                                                  \n",
            " conv2d_63 (Conv2D)             (None, 9, 9, 160)    122880      ['mixed5[0][0]']                 \n",
            "                                                                                                  \n",
            " batch_normalization_59 (BatchN  (None, 9, 9, 160)   480         ['conv2d_63[0][0]']              \n",
            " ormalization)                                                                                    \n",
            "                                                                                                  \n",
            " activation_54 (Activation)     (None, 9, 9, 160)    0           ['batch_normalization_59[0][0]'] \n",
            "                                                                                                  \n",
            " conv2d_64 (Conv2D)             (None, 9, 9, 160)    179200      ['activation_54[0][0]']          \n",
            "                                                                                                  \n",
            " batch_normalization_60 (BatchN  (None, 9, 9, 160)   480         ['conv2d_64[0][0]']              \n",
            " ormalization)                                                                                    \n",
            "                                                                                                  \n",
            " activation_55 (Activation)     (None, 9, 9, 160)    0           ['batch_normalization_60[0][0]'] \n",
            "                                                                                                  \n",
            " conv2d_60 (Conv2D)             (None, 9, 9, 160)    122880      ['mixed5[0][0]']                 \n",
            "                                                                                                  \n",
            " conv2d_65 (Conv2D)             (None, 9, 9, 160)    179200      ['activation_55[0][0]']          \n",
            "                                                                                                  \n",
            " batch_normalization_56 (BatchN  (None, 9, 9, 160)   480         ['conv2d_60[0][0]']              \n",
            " ormalization)                                                                                    \n",
            "                                                                                                  \n",
            " batch_normalization_61 (BatchN  (None, 9, 9, 160)   480         ['conv2d_65[0][0]']              \n",
            " ormalization)                                                                                    \n",
            "                                                                                                  \n",
            " activation_51 (Activation)     (None, 9, 9, 160)    0           ['batch_normalization_56[0][0]'] \n",
            "                                                                                                  \n",
            " activation_56 (Activation)     (None, 9, 9, 160)    0           ['batch_normalization_61[0][0]'] \n",
            "                                                                                                  \n",
            " conv2d_61 (Conv2D)             (None, 9, 9, 160)    179200      ['activation_51[0][0]']          \n",
            "                                                                                                  \n",
            " conv2d_66 (Conv2D)             (None, 9, 9, 160)    179200      ['activation_56[0][0]']          \n",
            "                                                                                                  \n",
            " batch_normalization_57 (BatchN  (None, 9, 9, 160)   480         ['conv2d_61[0][0]']              \n",
            " ormalization)                                                                                    \n",
            "                                                                                                  \n",
            " batch_normalization_62 (BatchN  (None, 9, 9, 160)   480         ['conv2d_66[0][0]']              \n",
            " ormalization)                                                                                    \n",
            "                                                                                                  \n",
            " activation_52 (Activation)     (None, 9, 9, 160)    0           ['batch_normalization_57[0][0]'] \n",
            "                                                                                                  \n",
            " activation_57 (Activation)     (None, 9, 9, 160)    0           ['batch_normalization_62[0][0]'] \n",
            "                                                                                                  \n",
            " average_pooling2d_5 (AveragePo  (None, 9, 9, 768)   0           ['mixed5[0][0]']                 \n",
            " oling2D)                                                                                         \n",
            "                                                                                                  \n",
            " conv2d_59 (Conv2D)             (None, 9, 9, 192)    147456      ['mixed5[0][0]']                 \n",
            "                                                                                                  \n",
            " conv2d_62 (Conv2D)             (None, 9, 9, 192)    215040      ['activation_52[0][0]']          \n",
            "                                                                                                  \n",
            " conv2d_67 (Conv2D)             (None, 9, 9, 192)    215040      ['activation_57[0][0]']          \n",
            "                                                                                                  \n",
            " conv2d_68 (Conv2D)             (None, 9, 9, 192)    147456      ['average_pooling2d_5[0][0]']    \n",
            "                                                                                                  \n",
            " batch_normalization_55 (BatchN  (None, 9, 9, 192)   576         ['conv2d_59[0][0]']              \n",
            " ormalization)                                                                                    \n",
            "                                                                                                  \n",
            " batch_normalization_58 (BatchN  (None, 9, 9, 192)   576         ['conv2d_62[0][0]']              \n",
            " ormalization)                                                                                    \n",
            "                                                                                                  \n",
            " batch_normalization_63 (BatchN  (None, 9, 9, 192)   576         ['conv2d_67[0][0]']              \n",
            " ormalization)                                                                                    \n",
            "                                                                                                  \n",
            " batch_normalization_64 (BatchN  (None, 9, 9, 192)   576         ['conv2d_68[0][0]']              \n",
            " ormalization)                                                                                    \n",
            "                                                                                                  \n",
            " activation_50 (Activation)     (None, 9, 9, 192)    0           ['batch_normalization_55[0][0]'] \n",
            "                                                                                                  \n",
            " activation_53 (Activation)     (None, 9, 9, 192)    0           ['batch_normalization_58[0][0]'] \n",
            "                                                                                                  \n",
            " activation_58 (Activation)     (None, 9, 9, 192)    0           ['batch_normalization_63[0][0]'] \n",
            "                                                                                                  \n",
            " activation_59 (Activation)     (None, 9, 9, 192)    0           ['batch_normalization_64[0][0]'] \n",
            "                                                                                                  \n",
            " mixed6 (Concatenate)           (None, 9, 9, 768)    0           ['activation_50[0][0]',          \n",
            "                                                                  'activation_53[0][0]',          \n",
            "                                                                  'activation_58[0][0]',          \n",
            "                                                                  'activation_59[0][0]']          \n",
            "                                                                                                  \n",
            " conv2d_73 (Conv2D)             (None, 9, 9, 192)    147456      ['mixed6[0][0]']                 \n",
            "                                                                                                  \n",
            " batch_normalization_69 (BatchN  (None, 9, 9, 192)   576         ['conv2d_73[0][0]']              \n",
            " ormalization)                                                                                    \n",
            "                                                                                                  \n",
            " activation_64 (Activation)     (None, 9, 9, 192)    0           ['batch_normalization_69[0][0]'] \n",
            "                                                                                                  \n",
            " conv2d_74 (Conv2D)             (None, 9, 9, 192)    258048      ['activation_64[0][0]']          \n",
            "                                                                                                  \n",
            " batch_normalization_70 (BatchN  (None, 9, 9, 192)   576         ['conv2d_74[0][0]']              \n",
            " ormalization)                                                                                    \n",
            "                                                                                                  \n",
            " activation_65 (Activation)     (None, 9, 9, 192)    0           ['batch_normalization_70[0][0]'] \n",
            "                                                                                                  \n",
            " conv2d_70 (Conv2D)             (None, 9, 9, 192)    147456      ['mixed6[0][0]']                 \n",
            "                                                                                                  \n",
            " conv2d_75 (Conv2D)             (None, 9, 9, 192)    258048      ['activation_65[0][0]']          \n",
            "                                                                                                  \n",
            " batch_normalization_66 (BatchN  (None, 9, 9, 192)   576         ['conv2d_70[0][0]']              \n",
            " ormalization)                                                                                    \n",
            "                                                                                                  \n",
            " batch_normalization_71 (BatchN  (None, 9, 9, 192)   576         ['conv2d_75[0][0]']              \n",
            " ormalization)                                                                                    \n",
            "                                                                                                  \n",
            " activation_61 (Activation)     (None, 9, 9, 192)    0           ['batch_normalization_66[0][0]'] \n",
            "                                                                                                  \n",
            " activation_66 (Activation)     (None, 9, 9, 192)    0           ['batch_normalization_71[0][0]'] \n",
            "                                                                                                  \n",
            " conv2d_71 (Conv2D)             (None, 9, 9, 192)    258048      ['activation_61[0][0]']          \n",
            "                                                                                                  \n",
            " conv2d_76 (Conv2D)             (None, 9, 9, 192)    258048      ['activation_66[0][0]']          \n",
            "                                                                                                  \n",
            " batch_normalization_67 (BatchN  (None, 9, 9, 192)   576         ['conv2d_71[0][0]']              \n",
            " ormalization)                                                                                    \n",
            "                                                                                                  \n",
            " batch_normalization_72 (BatchN  (None, 9, 9, 192)   576         ['conv2d_76[0][0]']              \n",
            " ormalization)                                                                                    \n",
            "                                                                                                  \n",
            " activation_62 (Activation)     (None, 9, 9, 192)    0           ['batch_normalization_67[0][0]'] \n",
            "                                                                                                  \n",
            " activation_67 (Activation)     (None, 9, 9, 192)    0           ['batch_normalization_72[0][0]'] \n",
            "                                                                                                  \n",
            " average_pooling2d_6 (AveragePo  (None, 9, 9, 768)   0           ['mixed6[0][0]']                 \n",
            " oling2D)                                                                                         \n",
            "                                                                                                  \n",
            " conv2d_69 (Conv2D)             (None, 9, 9, 192)    147456      ['mixed6[0][0]']                 \n",
            "                                                                                                  \n",
            " conv2d_72 (Conv2D)             (None, 9, 9, 192)    258048      ['activation_62[0][0]']          \n",
            "                                                                                                  \n",
            " conv2d_77 (Conv2D)             (None, 9, 9, 192)    258048      ['activation_67[0][0]']          \n",
            "                                                                                                  \n",
            " conv2d_78 (Conv2D)             (None, 9, 9, 192)    147456      ['average_pooling2d_6[0][0]']    \n",
            "                                                                                                  \n",
            " batch_normalization_65 (BatchN  (None, 9, 9, 192)   576         ['conv2d_69[0][0]']              \n",
            " ormalization)                                                                                    \n",
            "                                                                                                  \n",
            " batch_normalization_68 (BatchN  (None, 9, 9, 192)   576         ['conv2d_72[0][0]']              \n",
            " ormalization)                                                                                    \n",
            "                                                                                                  \n",
            " batch_normalization_73 (BatchN  (None, 9, 9, 192)   576         ['conv2d_77[0][0]']              \n",
            " ormalization)                                                                                    \n",
            "                                                                                                  \n",
            " batch_normalization_74 (BatchN  (None, 9, 9, 192)   576         ['conv2d_78[0][0]']              \n",
            " ormalization)                                                                                    \n",
            "                                                                                                  \n",
            " activation_60 (Activation)     (None, 9, 9, 192)    0           ['batch_normalization_65[0][0]'] \n",
            "                                                                                                  \n",
            " activation_63 (Activation)     (None, 9, 9, 192)    0           ['batch_normalization_68[0][0]'] \n",
            "                                                                                                  \n",
            " activation_68 (Activation)     (None, 9, 9, 192)    0           ['batch_normalization_73[0][0]'] \n",
            "                                                                                                  \n",
            " activation_69 (Activation)     (None, 9, 9, 192)    0           ['batch_normalization_74[0][0]'] \n",
            "                                                                                                  \n",
            " mixed7 (Concatenate)           (None, 9, 9, 768)    0           ['activation_60[0][0]',          \n",
            "                                                                  'activation_63[0][0]',          \n",
            "                                                                  'activation_68[0][0]',          \n",
            "                                                                  'activation_69[0][0]']          \n",
            "                                                                                                  \n",
            " conv2d_81 (Conv2D)             (None, 9, 9, 192)    147456      ['mixed7[0][0]']                 \n",
            "                                                                                                  \n",
            " batch_normalization_77 (BatchN  (None, 9, 9, 192)   576         ['conv2d_81[0][0]']              \n",
            " ormalization)                                                                                    \n",
            "                                                                                                  \n",
            " activation_72 (Activation)     (None, 9, 9, 192)    0           ['batch_normalization_77[0][0]'] \n",
            "                                                                                                  \n",
            " conv2d_82 (Conv2D)             (None, 9, 9, 192)    258048      ['activation_72[0][0]']          \n",
            "                                                                                                  \n",
            " batch_normalization_78 (BatchN  (None, 9, 9, 192)   576         ['conv2d_82[0][0]']              \n",
            " ormalization)                                                                                    \n",
            "                                                                                                  \n",
            " activation_73 (Activation)     (None, 9, 9, 192)    0           ['batch_normalization_78[0][0]'] \n",
            "                                                                                                  \n",
            " conv2d_79 (Conv2D)             (None, 9, 9, 192)    147456      ['mixed7[0][0]']                 \n",
            "                                                                                                  \n",
            " conv2d_83 (Conv2D)             (None, 9, 9, 192)    258048      ['activation_73[0][0]']          \n",
            "                                                                                                  \n",
            " batch_normalization_75 (BatchN  (None, 9, 9, 192)   576         ['conv2d_79[0][0]']              \n",
            " ormalization)                                                                                    \n",
            "                                                                                                  \n",
            " batch_normalization_79 (BatchN  (None, 9, 9, 192)   576         ['conv2d_83[0][0]']              \n",
            " ormalization)                                                                                    \n",
            "                                                                                                  \n",
            " activation_70 (Activation)     (None, 9, 9, 192)    0           ['batch_normalization_75[0][0]'] \n",
            "                                                                                                  \n",
            " activation_74 (Activation)     (None, 9, 9, 192)    0           ['batch_normalization_79[0][0]'] \n",
            "                                                                                                  \n",
            " conv2d_80 (Conv2D)             (None, 4, 4, 320)    552960      ['activation_70[0][0]']          \n",
            "                                                                                                  \n",
            " conv2d_84 (Conv2D)             (None, 4, 4, 192)    331776      ['activation_74[0][0]']          \n",
            "                                                                                                  \n",
            " batch_normalization_76 (BatchN  (None, 4, 4, 320)   960         ['conv2d_80[0][0]']              \n",
            " ormalization)                                                                                    \n",
            "                                                                                                  \n",
            " batch_normalization_80 (BatchN  (None, 4, 4, 192)   576         ['conv2d_84[0][0]']              \n",
            " ormalization)                                                                                    \n",
            "                                                                                                  \n",
            " activation_71 (Activation)     (None, 4, 4, 320)    0           ['batch_normalization_76[0][0]'] \n",
            "                                                                                                  \n",
            " activation_75 (Activation)     (None, 4, 4, 192)    0           ['batch_normalization_80[0][0]'] \n",
            "                                                                                                  \n",
            " max_pooling2d_11 (MaxPooling2D  (None, 4, 4, 768)   0           ['mixed7[0][0]']                 \n",
            " )                                                                                                \n",
            "                                                                                                  \n",
            " mixed8 (Concatenate)           (None, 4, 4, 1280)   0           ['activation_71[0][0]',          \n",
            "                                                                  'activation_75[0][0]',          \n",
            "                                                                  'max_pooling2d_11[0][0]']       \n",
            "                                                                                                  \n",
            " conv2d_89 (Conv2D)             (None, 4, 4, 448)    573440      ['mixed8[0][0]']                 \n",
            "                                                                                                  \n",
            " batch_normalization_85 (BatchN  (None, 4, 4, 448)   1344        ['conv2d_89[0][0]']              \n",
            " ormalization)                                                                                    \n",
            "                                                                                                  \n",
            " activation_80 (Activation)     (None, 4, 4, 448)    0           ['batch_normalization_85[0][0]'] \n",
            "                                                                                                  \n",
            " conv2d_86 (Conv2D)             (None, 4, 4, 384)    491520      ['mixed8[0][0]']                 \n",
            "                                                                                                  \n",
            " conv2d_90 (Conv2D)             (None, 4, 4, 384)    1548288     ['activation_80[0][0]']          \n",
            "                                                                                                  \n",
            " batch_normalization_82 (BatchN  (None, 4, 4, 384)   1152        ['conv2d_86[0][0]']              \n",
            " ormalization)                                                                                    \n",
            "                                                                                                  \n",
            " batch_normalization_86 (BatchN  (None, 4, 4, 384)   1152        ['conv2d_90[0][0]']              \n",
            " ormalization)                                                                                    \n",
            "                                                                                                  \n",
            " activation_77 (Activation)     (None, 4, 4, 384)    0           ['batch_normalization_82[0][0]'] \n",
            "                                                                                                  \n",
            " activation_81 (Activation)     (None, 4, 4, 384)    0           ['batch_normalization_86[0][0]'] \n",
            "                                                                                                  \n",
            " conv2d_87 (Conv2D)             (None, 4, 4, 384)    442368      ['activation_77[0][0]']          \n",
            "                                                                                                  \n",
            " conv2d_88 (Conv2D)             (None, 4, 4, 384)    442368      ['activation_77[0][0]']          \n",
            "                                                                                                  \n",
            " conv2d_91 (Conv2D)             (None, 4, 4, 384)    442368      ['activation_81[0][0]']          \n",
            "                                                                                                  \n",
            " conv2d_92 (Conv2D)             (None, 4, 4, 384)    442368      ['activation_81[0][0]']          \n",
            "                                                                                                  \n",
            " average_pooling2d_7 (AveragePo  (None, 4, 4, 1280)  0           ['mixed8[0][0]']                 \n",
            " oling2D)                                                                                         \n",
            "                                                                                                  \n",
            " conv2d_85 (Conv2D)             (None, 4, 4, 320)    409600      ['mixed8[0][0]']                 \n",
            "                                                                                                  \n",
            " batch_normalization_83 (BatchN  (None, 4, 4, 384)   1152        ['conv2d_87[0][0]']              \n",
            " ormalization)                                                                                    \n",
            "                                                                                                  \n",
            " batch_normalization_84 (BatchN  (None, 4, 4, 384)   1152        ['conv2d_88[0][0]']              \n",
            " ormalization)                                                                                    \n",
            "                                                                                                  \n",
            " batch_normalization_87 (BatchN  (None, 4, 4, 384)   1152        ['conv2d_91[0][0]']              \n",
            " ormalization)                                                                                    \n",
            "                                                                                                  \n",
            " batch_normalization_88 (BatchN  (None, 4, 4, 384)   1152        ['conv2d_92[0][0]']              \n",
            " ormalization)                                                                                    \n",
            "                                                                                                  \n",
            " conv2d_93 (Conv2D)             (None, 4, 4, 192)    245760      ['average_pooling2d_7[0][0]']    \n",
            "                                                                                                  \n",
            " batch_normalization_81 (BatchN  (None, 4, 4, 320)   960         ['conv2d_85[0][0]']              \n",
            " ormalization)                                                                                    \n",
            "                                                                                                  \n",
            " activation_78 (Activation)     (None, 4, 4, 384)    0           ['batch_normalization_83[0][0]'] \n",
            "                                                                                                  \n",
            " activation_79 (Activation)     (None, 4, 4, 384)    0           ['batch_normalization_84[0][0]'] \n",
            "                                                                                                  \n",
            " activation_82 (Activation)     (None, 4, 4, 384)    0           ['batch_normalization_87[0][0]'] \n",
            "                                                                                                  \n",
            " activation_83 (Activation)     (None, 4, 4, 384)    0           ['batch_normalization_88[0][0]'] \n",
            "                                                                                                  \n",
            " batch_normalization_89 (BatchN  (None, 4, 4, 192)   576         ['conv2d_93[0][0]']              \n",
            " ormalization)                                                                                    \n",
            "                                                                                                  \n",
            " activation_76 (Activation)     (None, 4, 4, 320)    0           ['batch_normalization_81[0][0]'] \n",
            "                                                                                                  \n",
            " mixed9_0 (Concatenate)         (None, 4, 4, 768)    0           ['activation_78[0][0]',          \n",
            "                                                                  'activation_79[0][0]']          \n",
            "                                                                                                  \n",
            " concatenate (Concatenate)      (None, 4, 4, 768)    0           ['activation_82[0][0]',          \n",
            "                                                                  'activation_83[0][0]']          \n",
            "                                                                                                  \n",
            " activation_84 (Activation)     (None, 4, 4, 192)    0           ['batch_normalization_89[0][0]'] \n",
            "                                                                                                  \n",
            " mixed9 (Concatenate)           (None, 4, 4, 2048)   0           ['activation_76[0][0]',          \n",
            "                                                                  'mixed9_0[0][0]',               \n",
            "                                                                  'concatenate[0][0]',            \n",
            "                                                                  'activation_84[0][0]']          \n",
            "                                                                                                  \n",
            " conv2d_98 (Conv2D)             (None, 4, 4, 448)    917504      ['mixed9[0][0]']                 \n",
            "                                                                                                  \n",
            " batch_normalization_94 (BatchN  (None, 4, 4, 448)   1344        ['conv2d_98[0][0]']              \n",
            " ormalization)                                                                                    \n",
            "                                                                                                  \n",
            " activation_89 (Activation)     (None, 4, 4, 448)    0           ['batch_normalization_94[0][0]'] \n",
            "                                                                                                  \n",
            " conv2d_95 (Conv2D)             (None, 4, 4, 384)    786432      ['mixed9[0][0]']                 \n",
            "                                                                                                  \n",
            " conv2d_99 (Conv2D)             (None, 4, 4, 384)    1548288     ['activation_89[0][0]']          \n",
            "                                                                                                  \n",
            " batch_normalization_91 (BatchN  (None, 4, 4, 384)   1152        ['conv2d_95[0][0]']              \n",
            " ormalization)                                                                                    \n",
            "                                                                                                  \n",
            " batch_normalization_95 (BatchN  (None, 4, 4, 384)   1152        ['conv2d_99[0][0]']              \n",
            " ormalization)                                                                                    \n",
            "                                                                                                  \n",
            " activation_86 (Activation)     (None, 4, 4, 384)    0           ['batch_normalization_91[0][0]'] \n",
            "                                                                                                  \n",
            " activation_90 (Activation)     (None, 4, 4, 384)    0           ['batch_normalization_95[0][0]'] \n",
            "                                                                                                  \n",
            " conv2d_96 (Conv2D)             (None, 4, 4, 384)    442368      ['activation_86[0][0]']          \n",
            "                                                                                                  \n",
            " conv2d_97 (Conv2D)             (None, 4, 4, 384)    442368      ['activation_86[0][0]']          \n",
            "                                                                                                  \n",
            " conv2d_100 (Conv2D)            (None, 4, 4, 384)    442368      ['activation_90[0][0]']          \n",
            "                                                                                                  \n",
            " conv2d_101 (Conv2D)            (None, 4, 4, 384)    442368      ['activation_90[0][0]']          \n",
            "                                                                                                  \n",
            " average_pooling2d_8 (AveragePo  (None, 4, 4, 2048)  0           ['mixed9[0][0]']                 \n",
            " oling2D)                                                                                         \n",
            "                                                                                                  \n",
            " conv2d_94 (Conv2D)             (None, 4, 4, 320)    655360      ['mixed9[0][0]']                 \n",
            "                                                                                                  \n",
            " batch_normalization_92 (BatchN  (None, 4, 4, 384)   1152        ['conv2d_96[0][0]']              \n",
            " ormalization)                                                                                    \n",
            "                                                                                                  \n",
            " batch_normalization_93 (BatchN  (None, 4, 4, 384)   1152        ['conv2d_97[0][0]']              \n",
            " ormalization)                                                                                    \n",
            "                                                                                                  \n",
            " batch_normalization_96 (BatchN  (None, 4, 4, 384)   1152        ['conv2d_100[0][0]']             \n",
            " ormalization)                                                                                    \n",
            "                                                                                                  \n",
            " batch_normalization_97 (BatchN  (None, 4, 4, 384)   1152        ['conv2d_101[0][0]']             \n",
            " ormalization)                                                                                    \n",
            "                                                                                                  \n",
            " conv2d_102 (Conv2D)            (None, 4, 4, 192)    393216      ['average_pooling2d_8[0][0]']    \n",
            "                                                                                                  \n",
            " batch_normalization_90 (BatchN  (None, 4, 4, 320)   960         ['conv2d_94[0][0]']              \n",
            " ormalization)                                                                                    \n",
            "                                                                                                  \n",
            " activation_87 (Activation)     (None, 4, 4, 384)    0           ['batch_normalization_92[0][0]'] \n",
            "                                                                                                  \n",
            " activation_88 (Activation)     (None, 4, 4, 384)    0           ['batch_normalization_93[0][0]'] \n",
            "                                                                                                  \n",
            " activation_91 (Activation)     (None, 4, 4, 384)    0           ['batch_normalization_96[0][0]'] \n",
            "                                                                                                  \n",
            " activation_92 (Activation)     (None, 4, 4, 384)    0           ['batch_normalization_97[0][0]'] \n",
            "                                                                                                  \n",
            " batch_normalization_98 (BatchN  (None, 4, 4, 192)   576         ['conv2d_102[0][0]']             \n",
            " ormalization)                                                                                    \n",
            "                                                                                                  \n",
            " activation_85 (Activation)     (None, 4, 4, 320)    0           ['batch_normalization_90[0][0]'] \n",
            "                                                                                                  \n",
            " mixed9_1 (Concatenate)         (None, 4, 4, 768)    0           ['activation_87[0][0]',          \n",
            "                                                                  'activation_88[0][0]']          \n",
            "                                                                                                  \n",
            " concatenate_1 (Concatenate)    (None, 4, 4, 768)    0           ['activation_91[0][0]',          \n",
            "                                                                  'activation_92[0][0]']          \n",
            "                                                                                                  \n",
            " activation_93 (Activation)     (None, 4, 4, 192)    0           ['batch_normalization_98[0][0]'] \n",
            "                                                                                                  \n",
            " mixed10 (Concatenate)          (None, 4, 4, 2048)   0           ['activation_85[0][0]',          \n",
            "                                                                  'mixed9_1[0][0]',               \n",
            "                                                                  'concatenate_1[0][0]',          \n",
            "                                                                  'activation_93[0][0]']          \n",
            "                                                                                                  \n",
            "==================================================================================================\n",
            "Total params: 21,802,784\n",
            "Trainable params: 0\n",
            "Non-trainable params: 21,802,784\n",
            "__________________________________________________________________________________________________\n"
          ]
        }
      ],
      "source": [
        "base_model.trainable = False\n",
        "base_model.summary()"
      ]
    },
    {
      "cell_type": "code",
      "execution_count": null,
      "metadata": {
        "id": "1Twe3pzRIy6c"
      },
      "outputs": [],
      "source": [
        "model_inputs = tf.keras.layers.Input(shape=(180,180,3))\n",
        "\n",
        "model_outputs = base_model(model_inputs)\n",
        "x = tf.keras.layers.Flatten()(model_outputs)\n",
        "\n",
        "last_outputs = tf.keras.layers.Dense(1,activation=\"sigmoid\")(x)"
      ]
    },
    {
      "cell_type": "code",
      "execution_count": null,
      "metadata": {
        "id": "3giBQ_UHJrnK"
      },
      "outputs": [],
      "source": [
        "model = tf.keras.models.Model(inputs=[model_inputs], outputs=[last_outputs])"
      ]
    },
    {
      "cell_type": "code",
      "execution_count": null,
      "metadata": {
        "colab": {
          "base_uri": "https://localhost:8080/"
        },
        "id": "bbT-tMvYJwn8",
        "outputId": "93e734f0-cfd7-49f8-829c-efc31ebe93a5"
      },
      "outputs": [
        {
          "output_type": "stream",
          "name": "stdout",
          "text": [
            "Model: \"model\"\n",
            "_________________________________________________________________\n",
            " Layer (type)                Output Shape              Param #   \n",
            "=================================================================\n",
            " input_4 (InputLayer)        [(None, 180, 180, 3)]     0         \n",
            "                                                                 \n",
            " inception_v3 (Functional)   (None, 4, 4, 2048)        21802784  \n",
            "                                                                 \n",
            " flatten_2 (Flatten)         (None, 32768)             0         \n",
            "                                                                 \n",
            " dense_4 (Dense)             (None, 1)                 32769     \n",
            "                                                                 \n",
            "=================================================================\n",
            "Total params: 21,835,553\n",
            "Trainable params: 32,769\n",
            "Non-trainable params: 21,802,784\n",
            "_________________________________________________________________\n"
          ]
        }
      ],
      "source": [
        "model.summary()"
      ]
    },
    {
      "cell_type": "code",
      "execution_count": null,
      "metadata": {
        "colab": {
          "base_uri": "https://localhost:8080/"
        },
        "id": "YLFl9kL7J2Gg",
        "outputId": "e565a55e-ecd3-49f8-db9c-f1cfa021ca5e"
      },
      "outputs": [
        {
          "output_type": "stream",
          "name": "stdout",
          "text": [
            "Epoch 1/10\n",
            "75/75 [==============================] - 12s 89ms/step - loss: 0.7997 - accuracy: 0.9225 - val_loss: 0.3512 - val_accuracy: 0.9563\n",
            "Epoch 2/10\n",
            "75/75 [==============================] - 5s 69ms/step - loss: 0.3341 - accuracy: 0.9658 - val_loss: 0.2814 - val_accuracy: 0.9762\n",
            "Epoch 3/10\n",
            "75/75 [==============================] - 5s 69ms/step - loss: 0.2531 - accuracy: 0.9683 - val_loss: 0.3538 - val_accuracy: 0.9725\n",
            "Epoch 4/10\n",
            "75/75 [==============================] - 5s 70ms/step - loss: 0.0976 - accuracy: 0.9858 - val_loss: 0.4412 - val_accuracy: 0.9725\n",
            "Epoch 5/10\n",
            "75/75 [==============================] - 5s 70ms/step - loss: 0.0794 - accuracy: 0.9900 - val_loss: 0.3296 - val_accuracy: 0.9737\n",
            "Epoch 6/10\n",
            "75/75 [==============================] - 5s 70ms/step - loss: 0.0336 - accuracy: 0.9925 - val_loss: 0.4408 - val_accuracy: 0.9775\n",
            "Epoch 7/10\n",
            "75/75 [==============================] - 5s 70ms/step - loss: 0.0840 - accuracy: 0.9908 - val_loss: 0.4227 - val_accuracy: 0.9737\n",
            "Epoch 8/10\n",
            "75/75 [==============================] - 5s 70ms/step - loss: 0.0559 - accuracy: 0.9950 - val_loss: 0.4152 - val_accuracy: 0.9750\n",
            "Epoch 9/10\n",
            "75/75 [==============================] - 5s 69ms/step - loss: 0.0241 - accuracy: 0.9958 - val_loss: 0.4463 - val_accuracy: 0.9750\n",
            "Epoch 10/10\n",
            "75/75 [==============================] - 5s 69ms/step - loss: 0.0276 - accuracy: 0.9979 - val_loss: 0.4418 - val_accuracy: 0.9800\n"
          ]
        }
      ],
      "source": [
        "model.compile(optimizer=\"rmsprop\", loss=\"binary_crossentropy\",metrics=['accuracy'])\n",
        "history = model.fit(x_train,y_train, epochs=10, validation_data=(x_val,y_val), batch_size=32)"
      ]
    },
    {
      "cell_type": "code",
      "execution_count": null,
      "metadata": {
        "colab": {
          "base_uri": "https://localhost:8080/",
          "height": 301
        },
        "id": "5uwuU_JXAfa1",
        "outputId": "1f8cc67d-bc79-4ac5-f2fa-000d4ec7aa52"
      },
      "outputs": [
        {
          "output_type": "execute_result",
          "data": {
            "text/plain": [
              "<matplotlib.legend.Legend at 0x7fe1913c1730>"
            ]
          },
          "metadata": {},
          "execution_count": 29
        },
        {
          "output_type": "display_data",
          "data": {
            "text/plain": [
              "<Figure size 432x288 with 1 Axes>"
            ],
            "image/png": "[encoded data removed]"
          },
          "metadata": {
            "needs_background": "light"
          }
        }
      ],
      "source": [
        "plt.plot(history.history['accuracy'], label='accuracy')\n",
        "plt.plot(history.history['val_accuracy'], label = 'val_accuracy')\n",
        "plt.xlabel('Epoch')\n",
        "plt.ylabel('Accuracy')\n",
        "plt.ylim([0.5, 1])\n",
        "plt.legend(loc='lower right')"
      ]
    },
    {
      "cell_type": "markdown",
      "metadata": {
        "id": "Jn6X_8pwCzFc"
      },
      "source": [
        "### **Results** \n",
        "Suprise! of course, we have recieved here the best score with 97.5% Acc."
      ]
    },
    {
      "cell_type": "code",
      "execution_count": null,
      "metadata": {
        "colab": {
          "base_uri": "https://localhost:8080/"
        },
        "id": "HHTyTv_LKFOD",
        "outputId": "43578aa1-a858-4d49-b5f2-7fe98945facf"
      },
      "outputs": [
        {
          "output_type": "stream",
          "name": "stdout",
          "text": [
            "25/25 [==============================] - 2s 48ms/step\n",
            "Accuracy:  0.97125\n"
          ]
        }
      ],
      "source": [
        "y_pred = model.predict(x_test)\n",
        "y_pred_labels = np.round(y_pred)\n",
        "print('Accuracy: ', accuracy_score(y_test, y_pred_labels))"
      ]
    },
    {
      "cell_type": "code",
      "source": [
        "train_pred = model.predict(x_train)\n",
        "train_pred_labels = np.round(train_pred)\n",
        "print('Accuracy: ', accuracy_score(y_train, train_pred_labels))"
      ],
      "metadata": {
        "colab": {
          "base_uri": "https://localhost:8080/"
        },
        "id": "d8KJVJ5E0Opw",
        "outputId": "03547ff8-4d10-4291-c35f-3d62e0e6845b"
      },
      "execution_count": null,
      "outputs": [
        {
          "output_type": "stream",
          "name": "stdout",
          "text": [
            "75/75 [==============================] - 1s 14ms/step\n",
            "Accuracy:  0.9966666666666667\n"
          ]
        }
      ]
    },
    {
      "cell_type": "code",
      "execution_count": null,
      "metadata": {
        "colab": {
          "base_uri": "https://localhost:8080/",
          "height": 222
        },
        "id": "Er9T-HrdEhdj",
        "outputId": "d39415e0-167c-4260-8a61-0d6af6ea2e2c"
      },
      "outputs": [
        {
          "output_type": "execute_result",
          "data": {
            "text/plain": [
              "         model Test score (Accuracy) Train score (Accuracy)  \\\n",
              "0    Basic CNN                   79%     0.8670833333333333   \n",
              "1     My Model                   80%     0.9395833333333333   \n",
              "2  InceptionV3                   97%     0.9966666666666667   \n",
              "\n",
              "   Number of trainable parameters  Number of layers Regularization methods  \\\n",
              "0                          761121                13                Dropout   \n",
              "1                          542241                14                Dropout   \n",
              "2                           32769                51                Dropout   \n",
              "\n",
              "   Number of epochs        Loss function Optimizer  \n",
              "0                20  binary_crossentropy      adam  \n",
              "1                23  binary_crossentropy      adam  \n",
              "2                10  binary_crossentropy   rmsprop  "
            ],
            "text/html": [
              "\n",
              "  <div id=\"df-6f3e269c-e7f1-414f-9474-46b98153b982\">\n",
              "    <div class=\"colab-df-container\">\n",
              "      <div>\n",
              "<style scoped>\n",
              "    .dataframe tbody tr th:only-of-type {\n",
              "        vertical-align: middle;\n",
              "    }\n",
              "\n",
              "    .dataframe tbody tr th {\n",
              "        vertical-align: top;\n",
              "    }\n",
              "\n",
              "    .dataframe thead th {\n",
              "        text-align: right;\n",
              "    }\n",
              "</style>\n",
              "<table border=\"1\" class=\"dataframe\">\n",
              "  <thead>\n",
              "    <tr style=\"text-align: right;\">\n",
              "      <th></th>\n",
              "      <th>model</th>\n",
              "      <th>Test score (Accuracy)</th>\n",
              "      <th>Train score (Accuracy)</th>\n",
              "      <th>Number of trainable parameters</th>\n",
              "      <th>Number of layers</th>\n",
              "      <th>Regularization methods</th>\n",
              "      <th>Number of epochs</th>\n",
              "      <th>Loss function</th>\n",
              "      <th>Optimizer</th>\n",
              "    </tr>\n",
              "  </thead>\n",
              "  <tbody>\n",
              "    <tr>\n",
              "      <th>0</th>\n",
              "      <td>Basic CNN</td>\n",
              "      <td>79%</td>\n",
              "      <td>0.8670833333333333</td>\n",
              "      <td>761121</td>\n",
              "      <td>13</td>\n",
              "      <td>Dropout</td>\n",
              "      <td>20</td>\n",
              "      <td>binary_crossentropy</td>\n",
              "      <td>adam</td>\n",
              "    </tr>\n",
              "    <tr>\n",
              "      <th>1</th>\n",
              "      <td>My Model</td>\n",
              "      <td>80%</td>\n",
              "      <td>0.9395833333333333</td>\n",
              "      <td>542241</td>\n",
              "      <td>14</td>\n",
              "      <td>Dropout</td>\n",
              "      <td>23</td>\n",
              "      <td>binary_crossentropy</td>\n",
              "      <td>adam</td>\n",
              "    </tr>\n",
              "    <tr>\n",
              "      <th>2</th>\n",
              "      <td>InceptionV3</td>\n",
              "      <td>97%</td>\n",
              "      <td>0.9966666666666667</td>\n",
              "      <td>32769</td>\n",
              "      <td>51</td>\n",
              "      <td>Dropout</td>\n",
              "      <td>10</td>\n",
              "      <td>binary_crossentropy</td>\n",
              "      <td>rmsprop</td>\n",
              "    </tr>\n",
              "  </tbody>\n",
              "</table>\n",
              "</div>\n",
              "      <button class=\"colab-df-convert\" onclick=\"convertToInteractive('df-6f3e269c-e7f1-414f-9474-46b98153b982')\"\n",
              "              title=\"Convert this dataframe to an interactive table.\"\n",
              "              style=\"display:none;\">\n",
              "        \n",
              "  <svg xmlns=\"http://www.w3.org/2000/svg\" height=\"24px\"viewBox=\"0 0 24 24\"\n",
              "       width=\"24px\">\n",
              "    <path d=\"M0 0h24v24H0V0z\" fill=\"none\"/>\n",
              "    <path d=\"M18.56 5.44l.94 2.06.94-2.06 2.06-.94-2.06-.94-.94-2.06-.94 2.06-2.06.94zm-11 1L8.5 8.5l.94-2.06 2.06-.94-2.06-.94L8.5 2.5l-.94 2.06-2.06.94zm10 10l.94 2.06.94-2.06 2.06-.94-2.06-.94-.94-2.06-.94 2.06-2.06.94z\"/><path d=\"M17.41 7.96l-1.37-1.37c-.4-.4-.92-.59-1.43-.59-.52 0-1.04.2-1.43.59L10.3 9.45l-7.72 7.72c-.78.78-.78 2.05 0 2.83L4 21.41c.39.39.9.59 1.41.59.51 0 1.02-.2 1.41-.59l7.78-7.78 2.81-2.81c.8-.78.8-2.07 0-2.86zM5.41 20L4 18.59l7.72-7.72 1.47 1.35L5.41 20z\"/>\n",
              "  </svg>\n",
              "      </button>\n",
              "      \n",
              "  <style>\n",
              "    .colab-df-container {\n",
              "      display:flex;\n",
              "      flex-wrap:wrap;\n",
              "      gap: 12px;\n",
              "    }\n",
              "\n",
              "    .colab-df-convert {\n",
              "      background-color: #E8F0FE;\n",
              "      border: none;\n",
              "      border-radius: 50%;\n",
              "      cursor: pointer;\n",
              "      display: none;\n",
              "      fill: #1967D2;\n",
              "      height: 32px;\n",
              "      padding: 0 0 0 0;\n",
              "      width: 32px;\n",
              "    }\n",
              "\n",
              "    .colab-df-convert:hover {\n",
              "      background-color: #E2EBFA;\n",
              "      box-shadow: 0px 1px 2px rgba(60, 64, 67, 0.3), 0px 1px 3px 1px rgba(60, 64, 67, 0.15);\n",
              "      fill: #174EA6;\n",
              "    }\n",
              "\n",
              "    [theme=dark] .colab-df-convert {\n",
              "      background-color: #3B4455;\n",
              "      fill: #D2E3FC;\n",
              "    }\n",
              "\n",
              "    [theme=dark] .colab-df-convert:hover {\n",
              "      background-color: #434B5C;\n",
              "      box-shadow: 0px 1px 3px 1px rgba(0, 0, 0, 0.15);\n",
              "      filter: drop-shadow(0px 1px 2px rgba(0, 0, 0, 0.3));\n",
              "      fill: #FFFFFF;\n",
              "    }\n",
              "  </style>\n",
              "\n",
              "      <script>\n",
              "        const buttonEl =\n",
              "          document.querySelector('#df-6f3e269c-e7f1-414f-9474-46b98153b982 button.colab-df-convert');\n",
              "        buttonEl.style.display =\n",
              "          google.colab.kernel.accessAllowed ? 'block' : 'none';\n",
              "\n",
              "        async function convertToInteractive(key) {\n",
              "          const element = document.querySelector('#df-6f3e269c-e7f1-414f-9474-46b98153b982');\n",
              "          const dataTable =\n",
              "            await google.colab.kernel.invokeFunction('convertToInteractive',\n",
              "                                                     [key], {});\n",
              "          if (!dataTable) return;\n",
              "\n",
              "          const docLinkHtml = 'Like what you see? Visit the ' +\n",
              "            '<a target=\"_blank\" href=https://colab.research.google.com/notebooks/data_table.ipynb>data table notebook</a>'\n",
              "            + ' to learn more about interactive tables.';\n",
              "          element.innerHTML = '';\n",
              "          dataTable['output_type'] = 'display_data';\n",
              "          await google.colab.output.renderOutput(dataTable, element);\n",
              "          const docLink = document.createElement('div');\n",
              "          docLink.innerHTML = docLinkHtml;\n",
              "          element.appendChild(docLink);\n",
              "        }\n",
              "      </script>\n",
              "    </div>\n",
              "  </div>\n",
              "  "
            ]
          },
          "metadata": {},
          "execution_count": 48
        }
      ],
      "source": [
        "\n",
        "import pandas as pd\n",
        "# Keep keys the same, and replace values according to your results and the specified type \n",
        "\n",
        "results = {'model': ['Basic CNN', 'My Model', 'InceptionV3'],\n",
        "           'Test score (Accuracy)': ['79%', '80%', '97%'],\n",
        "           'Train score (Accuracy)': ['0.8670833333333333', '0.9395833333333333', '0.9966666666666667'],\n",
        "           'Number of trainable parameters': [761121, 542241, 32769],\n",
        "           'Number of layers': [13, 14, 51],\n",
        "           'Regularization methods': ['Dropout', 'Dropout', 'Dropout'],\n",
        "           'Number of epochs': [20, 23, 10],\n",
        "           'Loss function': ['binary_crossentropy', 'binary_crossentropy', 'binary_crossentropy'],\n",
        "           'Optimizer': ['adam', 'adam', 'rmsprop']\n",
        "           }\n",
        "df = pd.DataFrame(results)\n",
        "df\n",
        "    "
      ]
    },
    {
      "cell_type": "code",
      "source": [
        "import os\n",
        "df.to_csv(os.path.join(os.getcwd(), 'result.csv'))"
      ],
      "metadata": {
        "id": "QI3Jz3Uv4K0P"
      },
      "execution_count": null,
      "outputs": []
    }
  ],
  "metadata": {
    "accelerator": "GPU",
    "colab": {
      "collapsed_sections": [
        "O8rJlDnRR9Dn"
      ],
      "provenance": []
    },
    "gpuClass": "standard",
    "kernelspec": {
      "display_name": "Python 3",
      "name": "python3"
    },
    "language_info": {
      "name": "python"
    }
  },
  "nbformat": 4,
  "nbformat_minor": 0
}